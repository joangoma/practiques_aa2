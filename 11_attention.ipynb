{
  "cells": [
    {
      "cell_type": "markdown",
      "metadata": {
        "id": "view-in-github",
        "colab_type": "text"
      },
      "source": [
        "<a href=\"https://colab.research.google.com/github/joangoma/practiques_aa2/blob/main/11_attention.ipynb\" target=\"_parent\"><img src=\"https://colab.research.google.com/assets/colab-badge.svg\" alt=\"Open In Colab\"/></a>"
      ]
    },
    {
      "cell_type": "markdown",
      "metadata": {
        "id": "c-WJMjRIwPwu"
      },
      "source": [
        "# Attention\n",
        "\n",
        "Created by [Gerard I. Gállego](https://www.linkedin.com/in/gerard-gallego/), [Laia Tarrés](https://www.linkedin.com/in/laia-tarres/) and [Javier Ferrando](https://www.linkedin.com/in/javierferrandomonsonis/) for the [Postgraduate Course in Artificial Intelligence with Deep Learning](https://www.talent.upc.edu/ing/estudis/formacio/curs/310400/postgrau-artificial-intelligence-deep-learning/) ([UPC School](https://www.talent.upc.edu/ing/), 2022).\n",
        "\n",
        "Updated by [Ioannis Tsiamas](https://www.linkedin.com/in/i-tsiamas/) (2023).\n"
      ]
    },
    {
      "cell_type": "markdown",
      "metadata": {
        "id": "dUc3bLtmysUN"
      },
      "source": [
        "Resources:\n",
        "\n",
        "*   [This book, that has a chapter on attention](https://d2l.ai/chapter_attention-mechanisms-and-transformers/index.html)\n",
        "*   [Lab 1: Attention](https://colab.research.google.com/github/whitead/dmol-book/blob/master/dl/attention.ipynb#scrollTo=DzqrgWQMv3nQ)\n",
        "*   [Lab 2: Attention transformer intuition](https://colab.research.google.com/github/alvinntnu/NTNU_ENC2045_LECTURES/blob/main/nlp/dl-attention-transformer-intuition.ipynb#scrollTo=yG-ivNKJYTkE)\n",
        "*   [This article is very well explained](https://lilianweng.github.io/posts/2018-06-24-attention/)\n",
        "*   [This colab for RNN + attention](https://colab.research.google.com/drive/1eObkehym2HauZo-NBYi39aAsWE1ujExk?usp=sharing#scrollTo=roXSIRB_QWDr)\n",
        "*   [This video tutorial on attention](https://youtu.be/w0OZ5iHsamk)\n",
        "\n"
      ]
    },
    {
      "cell_type": "markdown",
      "metadata": {
        "id": "vsMxXDnryEFQ"
      },
      "source": [
        "In this lab we are going to learn about Attention.\n",
        "\n",
        "Attention is a concept in machine learning and AI that goes back many years.\n",
        "Attention was inspired by how human brains deal with the massive amount of visual and audio input.\n",
        "As humans, we are not capable of processing all visual and audio inputs. Instead, we select - or attend to - the important parts of the input to be able make sense of our surroundings.\n",
        "\n",
        "For example, to detect there's a shiba inu dog in the following picture, we focus on the different elements in the face:\n",
        "\n",
        "![shiba attention](https://lilianweng.github.io/posts/2018-06-24-attention/shiba-example-attention.png)"
      ]
    },
    {
      "cell_type": "code",
      "execution_count": null,
      "metadata": {
        "id": "rH3Xgxb0SPrY"
      },
      "outputs": [],
      "source": [
        "from __future__ import unicode_literals, print_function, division\n",
        "\n",
        "import re\n",
        "import math\n",
        "import random\n",
        "import string\n",
        "import unicodedata\n",
        "from io import open\n",
        "\n",
        "import numpy as np\n",
        "\n",
        "import torch\n",
        "import torch.nn as nn\n",
        "from torch import optim\n",
        "import torch.nn.functional as F\n",
        "\n",
        "%matplotlib inline\n",
        "import matplotlib.pyplot as plt\n",
        "import matplotlib.ticker as ticker\n",
        "\n",
        "import seaborn as sns"
      ]
    },
    {
      "cell_type": "markdown",
      "metadata": {
        "id": "_MXK4fuBec6o"
      },
      "source": [
        "To ensure reproducibility of the experiments, we can set the seed to a fixed number."
      ]
    },
    {
      "cell_type": "code",
      "execution_count": null,
      "metadata": {
        "id": "gZwX7AMhSPrb"
      },
      "outputs": [],
      "source": [
        "seed = 123\n",
        "np.random.seed(seed)\n",
        "_ = torch.manual_seed(seed)\n",
        "_ = torch.cuda.manual_seed(seed)\n",
        "\n",
        "device = torch.device(\"cuda\" if torch.cuda.is_available() else \"cpu\")"
      ]
    },
    {
      "cell_type": "code",
      "execution_count": null,
      "metadata": {
        "id": "ekzVXtz-SPrb"
      },
      "outputs": [],
      "source": [
        "def plot_attention(attention, xtitle=\"Keys\", ytitle=\"Queries\"):\n",
        "    \"\"\" Plots the attention map.\"\"\"\n",
        "\n",
        "    sns.set(rc={'figure.figsize':(12, 8)})\n",
        "    ax = sns.heatmap(\n",
        "        attention.detach().cpu(),\n",
        "        linewidth=0.5,\n",
        "        cmap=\"Blues\",\n",
        "        square=True)\n",
        "\n",
        "    ax.set_yticklabels(ax.get_yticklabels(), rotation=0)\n",
        "    ax.set_xlabel(xtitle)\n",
        "    ax.set_ylabel(ytitle)\n",
        "\n",
        "    plt.show()"
      ]
    },
    {
      "cell_type": "markdown",
      "metadata": {
        "id": "bOBLEt0CIyDe"
      },
      "source": [
        "# Attention Mechanisms\n",
        "\n",
        "https://www.kdnuggets.com/2021/01/attention-mechanism-deep-learning-explained.html\n",
        "\n",
        "In deep learning context, attention is a term used for a family of related mechanisms which, in general, learn to predict some probability distribution over a sequence of elements.\n",
        "\n",
        "Intuitively, this allows a model to \"pay more attention\" to elements from the sequence which get a higher probability weight.\n",
        "\n",
        "In this lab, we are going to dive deep into the **soft-attention** mechanism, the standard approach nowadays. We are going to also try different versions of it, the *additive*, and the multiplicative attentions.\n",
        "\n",
        "An attention mechanism has a least the following components:\n",
        "\n",
        "*   n key-value pairs:  {${(k_i, v_i)}$} $_{i=1}^n$ where $k_i \\in ℝ^{d_k}$ and $v_i \\in ℝ^{d_v}$, representing the same elements in the sequence\n",
        "*   A query: $q \\in ℝ^{d_q}$\n",
        "*   Some similarity function (sometimes called *energy*) between keys and queries: $e :  ℝ^{d_k}$ x $ℝ^{d_q}$\n"
      ]
    },
    {
      "cell_type": "markdown",
      "metadata": {
        "id": "7CO5kgiUgF5b"
      },
      "source": [
        "\n",
        "\n",
        "## How the attention output is calculated?\n",
        "\n",
        "### Soft-attention mechanism\n",
        "\n",
        "A soft-attention mechanism performs a linear combination of the values. The weights associated with each value in the linear combination are computed by comparing the query with every key. The more similar the query is to the key, the larger the weight of the associated value in the attention output.\n",
        "\n",
        "More formally, the output of the attention mechanism is computed as:\n",
        "$ o = \\sum_{i=1}^n a_i v_i \\in ℝ^{d_v}$\n",
        "\n",
        "Each attention weights $a_i$ is computed by measuring the similarity between the query and the $i$-th key. First we obtain\n",
        "$b_i = e(k_i,q)$, and then, by applying $e$ to all $i$, we get a vector $b = [b_1,...,b_n]^T$, which is transformed into the probability simplex thanks to the softmax function, $a = \\text{softmax} (b)$.\n",
        "\n",
        "<p align=\"center\"><br>\n",
        "<img src=\"https://github.com/telecombcn-dl/labs-all/raw/main/labs/attention/images/soft_attention.png?raw=true\" class=\"center\" title=\"Soft-attention mechanism\" width=\"600\"/>\n",
        "</p><br>"
      ]
    },
    {
      "cell_type": "markdown",
      "metadata": {
        "id": "vfc0SIGbu4uy"
      },
      "source": [
        "# How is the query-key comparison calculated?"
      ]
    },
    {
      "cell_type": "markdown",
      "metadata": {
        "id": "Mps6zyrMrpE-"
      },
      "source": [
        "# Exercise 1: MultiplicativeAttention\n",
        "\n",
        "The multiplicative attention performs the following operation:\n",
        "\n",
        "$e(k,q) = q W_q k^T$\n",
        "\n",
        "We use a learnable matrix between the query and the key. This is equivalent to projecting the query through $W_q$ and performing the dot-product afterwards.\n",
        "\n",
        "<p align=\"center\"><br>\n",
        "<img src=\"https://github.com/telecombcn-dl/labs-all/raw/main/labs/attention/images/multiplicative_attention.png?raw=true\" class=\"center\" title=\"Mutliplicative attention\" width=\"300\"/>\n",
        "</p><br>"
      ]
    },
    {
      "cell_type": "markdown",
      "metadata": {
        "id": "8phJz0FpkiDs"
      },
      "source": [
        "Let's create one random query, and eight random keys and values, with the following dimensions:\n",
        "- $T_Q=1$\n",
        "- $T_K=T_V=8$\n",
        "- $d_Q=d_K=d_V=128$\n",
        "\n",
        "Let's consider keys and values as representing the same element."
      ]
    },
    {
      "cell_type": "code",
      "execution_count": null,
      "metadata": {
        "id": "0utEmHSpSPrf"
      },
      "outputs": [],
      "source": [
        "dim = 128\n",
        "q = torch.randn(1, dim)\n",
        "k = torch.randn(8, dim)\n",
        "v = k"
      ]
    },
    {
      "cell_type": "markdown",
      "metadata": {
        "id": "Pk0DV4HRmdI0"
      },
      "source": [
        "### Training loop with a dummy task\n",
        "\n",
        "Let's now specify our training function. Since some attention types have learnable weight matrices, we can then train them to accomplish a specific task. Here we define an optimizer (Adam), a loss function (Mean Square Error), and perform a training loop to minimize the distance between the model `output` and the desired `target`.\n",
        "\n",
        "As a use case to check if the model works well, we are going to define the `target` as a linear combination of the values, with `target_attn_weights` as weights. That is, we force the model to compute:\n",
        "\n",
        "$ \\text{target} = \\sum_{i=1}^n \\text{target_attn_weights } v_i \\in ℝ^{d_v}$\n",
        "\n",
        "If we recall the output equation of the attention:\n",
        "\n",
        "$ o = \\sum_{i=1}^n a_i v_i \\in ℝ^{d_v}$\n",
        "\n",
        "we can see that if the model learns to output `target`, we expect it to find attention weights $a= \\text{target_attn_weights}$.\n",
        "\n",
        "Note that the `mse_loss` measures the distance between each component of `target` and `output`."
      ]
    },
    {
      "cell_type": "code",
      "execution_count": null,
      "metadata": {
        "id": "k0BQGS_VSPrg"
      },
      "outputs": [],
      "source": [
        "def dummy_train(attn_module, q, k, v, target_attn_weights):\n",
        "    optimizer = optim.Adam(attn_module.parameters(), lr=0.0001)\n",
        "\n",
        "    target = torch.matmul(target_attn_weights, v)\n",
        "\n",
        "    attn_module.train()\n",
        "\n",
        "    n_epochs = 15000\n",
        "    for i in range(n_epochs):\n",
        "        optimizer.zero_grad()\n",
        "        output, attn_weights = attn_module(q, k, v)\n",
        "        loss = F.mse_loss(output, target)\n",
        "        loss.backward()\n",
        "        optimizer.step()\n",
        "\n",
        "        if (i + 1) % 1000 == 0:\n",
        "            print(f\"Epoch {i+1}/{n_epochs}\")\n",
        "            print(f\"\\tLoss:\\t\\t{loss.item()}\")\n",
        "            print(f\"\\tAttention:\\t{attn_weights.squeeze().detach().numpy().round(3)}\")\n",
        "\n",
        "\n",
        "    attn_module.eval()\n",
        "    output, attn_weights = attn_module(q, k, v)\n",
        "\n",
        "    print(f\"\\nOutput:\\n{output}\\n\")\n",
        "    print(f\"\\nTarget:\\n{target}\\n\")\n",
        "\n",
        "    return output, attn_weights"
      ]
    },
    {
      "cell_type": "code",
      "execution_count": null,
      "metadata": {
        "id": "OBH9p84qSPrh"
      },
      "outputs": [],
      "source": [
        "class MultiplicativeAttention(nn.Module):\n",
        "    \"\"\"\n",
        "     Implements plain dot-product and multiplicative attention.\n",
        "     Args:\n",
        "         q_dim (int): dimension of the queries\n",
        "         k_dim (int): dimension of the keys\n",
        "         v_dim (int): dimension of the values\n",
        "         scaling (bool): whether to scale after the dot-product\n",
        "         sub_type (string): specify type of attention: dot-product / multiplicative\n",
        "     Inputs: query, key, value\n",
        "        query (torch.FloatTensor):  Query Tensor   (... x T_q x d_q)\n",
        "        key (torch.FloatTensor):  Key Tensor     (... x T_k x d_k)\n",
        "        value (torch.FloatTensor):  Value Tensor   (... x T_v x d_v)\n",
        "\n",
        "    Returns:\n",
        "        torch.FloatTensor: Result of the Attention Mechanism  (... x T_q x d_v)\n",
        "        torch.FloatTensor: Attention map       (... x T_q x T_k)\n",
        "\n",
        "    \"\"\"\n",
        "    def __init__(self, q_dim: int, k_dim: int, scaling: bool = False, sub_type: str = 'multiplicative') -> None:\n",
        "        super(MultiplicativeAttention, self).__init__()\n",
        "        self.sub_type = sub_type\n",
        "        if self.sub_type == 'dot_product':\n",
        "            assert q_dim == k_dim\n",
        "            self.scaling = scaling\n",
        "        else:\n",
        "          self.proj_w = nn.Linear(q_dim, k_dim, bias=False)\n",
        "          self.scaling = False                                  # We don't scale in the multiplicative attention\n",
        "\n",
        "    def forward(self, query, key, value):\n",
        "        if self.sub_type == 'dot_product':\n",
        "            qw = query\n",
        "            key_ = key\n",
        "\n",
        "        else:\n",
        "            qw = self.proj_w(query)                             # (... x T_q x q_dim) -> (... x T_q x k_dim)\n",
        "            key_ = key\n",
        "\n",
        "        # TODO: Compute the attention logits from qw and the key\n",
        "        # (... x T_q x k_dim) * (... x k_dim x T_k) -> (... x T_q x T_k)\n",
        "        attn_logits = torch.matmul(qw, key_.transpose(-2, -1))\n",
        "\n",
        "        if self.scaling:\n",
        "            attn_logits = attn_logits / math.sqrt(key_.size(-1))\n",
        "\n",
        "        # TODO: Compute the attention weights\n",
        "        attn_weights = F.softmax(attn_logits, dim=-1)\n",
        "\n",
        "        output = torch.matmul(attn_weights, value)\n",
        "        return output, attn_weights"
      ]
    },
    {
      "cell_type": "code",
      "execution_count": null,
      "metadata": {
        "id": "Im5FArrCSPri",
        "colab": {
          "base_uri": "https://localhost:8080/"
        },
        "outputId": "93b28f06-08c7-495d-8801-0974dc3500c6"
      },
      "outputs": [
        {
          "output_type": "stream",
          "name": "stdout",
          "text": [
            "Epoch 1000/15000\n",
            "\tLoss:\t\t0.010262658819556236\n",
            "\tAttention:\t[0.    0.222 0.114 0.312 0.016 0.201 0.022 0.112]\n",
            "Epoch 2000/15000\n",
            "\tLoss:\t\t0.01026249397546053\n",
            "\tAttention:\t[0.    0.222 0.114 0.312 0.016 0.201 0.022 0.112]\n",
            "Epoch 3000/15000\n",
            "\tLoss:\t\t0.010261950083076954\n",
            "\tAttention:\t[0.    0.222 0.114 0.312 0.016 0.201 0.022 0.112]\n",
            "Epoch 4000/15000\n",
            "\tLoss:\t\t0.010495520196855068\n",
            "\tAttention:\t[0.    0.229 0.115 0.3   0.016 0.202 0.022 0.114]\n",
            "Epoch 5000/15000\n",
            "\tLoss:\t\t3.297360672149807e-05\n",
            "\tAttention:\t[0.1   0.202 0.1   0.295 0.001 0.2   0.    0.101]\n",
            "Epoch 6000/15000\n",
            "\tLoss:\t\t0.00021711509907618165\n",
            "\tAttention:\t[0.101 0.206 0.101 0.288 0.    0.201 0.    0.102]\n",
            "Epoch 7000/15000\n",
            "\tLoss:\t\t0.00014430732699111104\n",
            "\tAttention:\t[0.101 0.205 0.1   0.29  0.    0.202 0.    0.102]\n",
            "Epoch 8000/15000\n",
            "\tLoss:\t\t8.686295768711716e-05\n",
            "\tAttention:\t[0.099 0.195 0.1   0.307 0.    0.2   0.    0.099]\n",
            "Epoch 9000/15000\n",
            "\tLoss:\t\t4.210452243569307e-05\n",
            "\tAttention:\t[0.101 0.203 0.1   0.295 0.    0.2   0.    0.101]\n",
            "Epoch 10000/15000\n",
            "\tLoss:\t\t4.7208242904162034e-05\n",
            "\tAttention:\t[0.101 0.203 0.1   0.295 0.    0.2   0.    0.101]\n",
            "Epoch 11000/15000\n",
            "\tLoss:\t\t5.487058842845727e-06\n",
            "\tAttention:\t[0.1   0.201 0.1   0.298 0.    0.2   0.    0.1  ]\n",
            "Epoch 12000/15000\n",
            "\tLoss:\t\t1.9844294001813978e-05\n",
            "\tAttention:\t[0.1   0.201 0.1   0.296 0.    0.201 0.    0.101]\n",
            "Epoch 13000/15000\n",
            "\tLoss:\t\t8.652596079627983e-06\n",
            "\tAttention:\t[0.1   0.198 0.1   0.302 0.    0.2   0.    0.1  ]\n",
            "Epoch 14000/15000\n",
            "\tLoss:\t\t3.8410585148085374e-06\n",
            "\tAttention:\t[0.1   0.201 0.1   0.3   0.    0.198 0.    0.1  ]\n",
            "Epoch 15000/15000\n",
            "\tLoss:\t\t0.00014888458827044815\n",
            "\tAttention:\t[0.101 0.205 0.1   0.29  0.    0.201 0.    0.102]\n",
            "\n",
            "Output:\n",
            "tensor([[-2.8217e-01, -2.9208e-01, -5.1637e-01, -5.1198e-01, -3.1272e-02,\n",
            "          3.0504e-01, -3.1904e-01,  4.9562e-01, -5.8881e-01, -2.5084e-01,\n",
            "         -2.7034e-01,  5.6743e-01,  1.3639e-01, -5.4792e-01,  1.4371e-01,\n",
            "         -1.9279e-01,  7.7543e-01,  6.8751e-02, -2.3219e-01, -4.5245e-01,\n",
            "          8.8521e-01,  5.8090e-02,  1.1584e-02,  1.7938e-01, -4.9746e-01,\n",
            "         -3.2785e-01, -1.9522e-01, -6.7155e-01, -3.2288e-04, -5.5072e-01,\n",
            "         -2.7207e-01, -1.4836e-01,  6.5366e-01, -8.0943e-02,  9.9540e-01,\n",
            "          3.8031e-01, -2.5980e-01,  4.4618e-02,  5.1654e-01, -8.0735e-01,\n",
            "         -5.4059e-01, -2.7978e-01, -4.6789e-02,  1.2256e-01, -2.9819e-02,\n",
            "         -1.0609e+00, -4.2776e-01,  2.1041e-03, -2.9783e-01,  3.3299e-01,\n",
            "          2.5287e-01,  4.9580e-01, -5.6993e-01,  9.9530e-02,  2.7755e-01,\n",
            "         -7.1306e-01,  5.9458e-02, -5.0092e-01,  6.9768e-01, -9.5619e-02,\n",
            "         -1.1551e-01,  5.8613e-01,  1.7448e-01, -4.0393e-01,  1.0083e-01,\n",
            "         -1.8274e-01,  1.4100e-01,  3.0141e-01,  1.2406e-01, -2.0882e-01,\n",
            "         -6.5218e-01, -3.3720e-01,  8.1999e-01, -2.2901e-01, -2.1570e-01,\n",
            "         -1.7789e-01,  7.9870e-01,  1.9546e-01, -1.8224e-01,  2.2879e-01,\n",
            "          4.5052e-01,  4.3260e-01, -1.8307e-01,  2.0349e-01,  1.0867e+00,\n",
            "          3.3843e-01,  7.4851e-02,  1.9408e-01,  1.2285e-01,  1.1539e-03,\n",
            "         -2.9370e-01, -4.2026e-01, -3.2085e-01, -6.5860e-01, -4.4930e-01,\n",
            "         -1.2650e+00,  2.9884e-01, -2.4938e-01, -3.1198e-01, -1.4070e-01,\n",
            "         -1.4140e-01,  9.9295e-01,  3.6091e-01,  7.2423e-01,  3.8439e-01,\n",
            "         -3.6676e-01,  4.9153e-01, -1.7118e-01, -1.7684e-01, -3.4742e-02,\n",
            "         -1.7149e-01,  3.5779e-01, -3.1290e-01, -1.5673e-01,  5.9572e-01,\n",
            "         -4.0005e-01, -2.8213e-01,  9.6449e-01,  4.1717e-01, -1.0704e+00,\n",
            "          1.0321e-01,  1.1487e-01,  1.7395e-01, -4.2426e-01,  3.4102e-01,\n",
            "         -7.9051e-01,  1.3767e-02,  2.2447e-02]], grad_fn=<MmBackward0>)\n",
            "\n",
            "\n",
            "Target:\n",
            "tensor([[-2.6784e-01, -2.9335e-01, -5.2305e-01, -5.2459e-01, -3.2892e-02,\n",
            "          2.8214e-01, -3.1348e-01,  4.9960e-01, -5.9624e-01, -2.5552e-01,\n",
            "         -2.9739e-01,  5.6822e-01,  1.1821e-01, -5.4457e-01,  1.5013e-01,\n",
            "         -2.1000e-01,  7.5930e-01,  8.1677e-02, -2.1472e-01, -4.3948e-01,\n",
            "          8.5096e-01,  6.3151e-02,  1.0918e-02,  1.7100e-01, -4.9775e-01,\n",
            "         -3.1695e-01, -2.0621e-01, -6.5781e-01,  1.6383e-03, -5.4531e-01,\n",
            "         -2.6486e-01, -1.4901e-01,  6.4205e-01, -7.5989e-02,  9.9321e-01,\n",
            "          3.7714e-01, -2.7905e-01,  4.1285e-02,  5.2816e-01, -8.0447e-01,\n",
            "         -5.3973e-01, -2.7230e-01, -5.8401e-02,  1.2168e-01, -1.2252e-02,\n",
            "         -1.0585e+00, -4.2075e-01,  1.3785e-03, -2.9878e-01,  3.3690e-01,\n",
            "          2.4685e-01,  4.8836e-01, -5.6140e-01,  9.7077e-02,  2.6159e-01,\n",
            "         -6.9387e-01,  7.3211e-02, -4.8725e-01,  7.0750e-01, -9.4441e-02,\n",
            "         -1.0638e-01,  5.9476e-01,  1.4953e-01, -3.7664e-01,  8.9952e-02,\n",
            "         -1.8186e-01,  1.2280e-01,  2.9664e-01,  1.2038e-01, -1.8726e-01,\n",
            "         -6.5453e-01, -3.4586e-01,  8.1233e-01, -2.2003e-01, -2.2456e-01,\n",
            "         -1.5934e-01,  8.1169e-01,  1.9110e-01, -1.7176e-01,  2.2541e-01,\n",
            "          4.5423e-01,  4.2460e-01, -1.8009e-01,  2.1791e-01,  1.0795e+00,\n",
            "          3.1646e-01,  8.0782e-02,  1.8553e-01,  1.1485e-01, -8.6176e-03,\n",
            "         -2.7506e-01, -4.2248e-01, -3.2259e-01, -6.6891e-01, -4.3891e-01,\n",
            "         -1.2434e+00,  3.2769e-01, -2.5654e-01, -3.1516e-01, -1.4520e-01,\n",
            "         -1.4037e-01,  9.8648e-01,  3.6249e-01,  7.2783e-01,  3.7692e-01,\n",
            "         -3.6165e-01,  5.0224e-01, -1.6743e-01, -1.8115e-01, -4.5531e-02,\n",
            "         -1.8907e-01,  3.5398e-01, -3.1226e-01, -1.6101e-01,  6.0667e-01,\n",
            "         -4.0034e-01, -2.6287e-01,  9.5839e-01,  4.0777e-01, -1.0602e+00,\n",
            "          9.1269e-02,  9.4469e-02,  1.8587e-01, -4.1764e-01,  3.0413e-01,\n",
            "         -7.8673e-01,  3.7258e-04,  2.0007e-02]])\n",
            "\n"
          ]
        }
      ],
      "source": [
        "target_attn_weights = torch.Tensor([[0.1, 0.2, 0.1, 0.3, 0.0, 0.2, 0.0, 0.1]])\n",
        "\n",
        "attn_module = MultiplicativeAttention(q_dim=dim, k_dim=dim)\n",
        "output, attn_weights = dummy_train(attn_module, q, k, v, target_attn_weights)"
      ]
    },
    {
      "cell_type": "markdown",
      "metadata": {
        "id": "cmXAQCix9wTP"
      },
      "source": [
        "We can see that the model is able to learn to produce an `output` vector very similar to `target` vector, and the attention weights converge to `target_attn_weights`."
      ]
    },
    {
      "cell_type": "code",
      "execution_count": null,
      "metadata": {
        "id": "NQ2qpoAASPrj",
        "colab": {
          "base_uri": "https://localhost:8080/",
          "height": 577
        },
        "outputId": "d8e1749c-6cb0-4033-a003-bf3886a00ab3"
      },
      "outputs": [
        {
          "output_type": "display_data",
          "data": {
            "text/plain": [
              "<Figure size 1200x800 with 2 Axes>"
            ],
            "image/png": "[encoded data removed]"
          },
          "metadata": {}
        }
      ],
      "source": [
        "# Plot attention weights of trained attention\n",
        "\n",
        "output, attention = attn_module(q,k,v)\n",
        "\n",
        "plot_attention(\n",
        "    attention,\n",
        ")"
      ]
    },
    {
      "cell_type": "markdown",
      "metadata": {
        "id": "CKeimYAWV3nA"
      },
      "source": [
        "## Dot-product attention\n",
        "\n",
        "One basic type of attention mechanism, called dot-product attention, uses a simple dot product as a similarity function.\n",
        "\n",
        "This is the most commonly used type of attention nowadays, as it is used by models based on the Transformer architecture.\n",
        "\n",
        "$e(k,q) = k^T q$\n",
        "\n",
        "<p align=\"center\"><br>\n",
        "<img src=\"https://github.com/telecombcn-dl/labs-all/raw/main/labs/attention/images/dot_product_attn.png?raw=true\" class=\"center\" title=\"Dot-product attention\" width=\"300\"/>\n",
        "</p><br>\n",
        "\n",
        "The dot-product grows due to the dimensionality. Scaling can help reducing the sharpness of the probability distribution after applying the softmax, and therefore prevent tiny gradients. Assuming $d_k = d_q = d$ (all the dimensions are identical), then:\n",
        "\n",
        "$e(k,q) = \\frac{k^T q}{\\sqrt{d}}$"
      ]
    },
    {
      "cell_type": "code",
      "execution_count": null,
      "metadata": {
        "id": "UJzsqDxtSPrj",
        "colab": {
          "base_uri": "https://localhost:8080/",
          "height": 591
        },
        "outputId": "132d1125-cfbf-4655-f2e2-58ddcff3b245"
      },
      "outputs": [
        {
          "output_type": "display_data",
          "data": {
            "text/plain": [
              "<Figure size 1200x800 with 2 Axes>"
            ],
            "image/png": "[encoded data removed]"
          },
          "metadata": {}
        }
      ],
      "source": [
        "attn_module = MultiplicativeAttention(q_dim=dim, k_dim=dim, sub_type='dot_product')\n",
        "output, attention_no_scaling = attn_module(q,k,v)\n",
        "\n",
        "plot_attention(\n",
        "    attention_no_scaling,\n",
        ")"
      ]
    },
    {
      "cell_type": "markdown",
      "metadata": {
        "id": "XL2I31YAVzEH"
      },
      "source": [
        "We use ```scaling``` argument to choose wether we also want to scale after the dot-product."
      ]
    },
    {
      "cell_type": "code",
      "execution_count": null,
      "metadata": {
        "id": "s3S3XaVhSPrk",
        "colab": {
          "base_uri": "https://localhost:8080/",
          "height": 577
        },
        "outputId": "b72d11f7-3ad4-4b1a-911e-979701818124"
      },
      "outputs": [
        {
          "output_type": "display_data",
          "data": {
            "text/plain": [
              "<Figure size 1200x800 with 2 Axes>"
            ],
            "image/png": "[encoded data removed]"
          },
          "metadata": {}
        }
      ],
      "source": [
        "attn_module = MultiplicativeAttention(q_dim=dim, k_dim=dim, sub_type='dot_product', scaling = True)\n",
        "output, attention_scaling = attn_module(q,k,v)\n",
        "\n",
        "plot_attention(\n",
        "    attention_scaling,\n",
        ")"
      ]
    },
    {
      "cell_type": "markdown",
      "metadata": {
        "id": "s4mbsTqQUHsJ"
      },
      "source": [
        "You can see that the distribution of attention weights changes, right?\n",
        "Let's use a bar plot to compare them better:"
      ]
    },
    {
      "cell_type": "code",
      "execution_count": null,
      "metadata": {
        "id": "hm--C134SPrl",
        "colab": {
          "base_uri": "https://localhost:8080/",
          "height": 571
        },
        "outputId": "f94074d2-26b8-418d-edac-fa6e137f6a16"
      },
      "outputs": [
        {
          "output_type": "display_data",
          "data": {
            "text/plain": [
              "<Figure size 1200x800 with 1 Axes>"
            ],
            "image/png": "[encoded data removed]"
          },
          "metadata": {}
        }
      ],
      "source": [
        "def plot_histogram(input_tensor_dict):\n",
        "    \"\"\"Helper function to make bar plots.\"\"\"\n",
        "    for key in input_tensor_dict.keys():\n",
        "      input_tensor = input_tensor_dict[key].squeeze().cpu().detach().numpy()\n",
        "      plt.bar(range(0,input_tensor.size),input_tensor, alpha=0.6, label = key)\n",
        "    plt.xticks(ticks = range(0,input_tensor.size))\n",
        "    plt.legend()\n",
        "\n",
        "attn_results_dict = {'No scaling' : attention_no_scaling, 'Scaling' : attention_scaling}\n",
        "plot_histogram(attn_results_dict)"
      ]
    },
    {
      "cell_type": "markdown",
      "metadata": {
        "id": "oY12_djps1I4"
      },
      "source": [
        "# Exercise 2: Additive attention\n",
        "\n",
        "In this case, the attention mechanism uses an MLP to learn the similarity function $e(k,q) = tanh(k W_k + q W_q) w^T$ where $W_k \\in ℝ^{h𝘟d_k}$, $W_q \\in ℝ^{h𝘟d_q}$ and $w \\in ℝ^{h}$ are trainable parameters.\n",
        "\n",
        "<p align=\"center\"><br>\n",
        "<img src=\"https://github.com/telecombcn-dl/labs-all/raw/main/labs/attention/images/additive_attention.png?raw=true\" class=\"center\" title=\"Additive attention\" width=\"700\"/>\n",
        "</p><br>\n",
        "\n",
        "Here we don't assume that the queries and keys have the same dimensionality, because we can project them into a space of a fixed dimension through $W_k$ and $W_q$. Then this is our first layer of the MLP. And then we have the second layer with is just a linear output layer.\n",
        "\n",
        "Notice that we are adding projected versions of the key and query and applying a 2-layer MLP. Both projections and the output layer are trainable.\n"
      ]
    },
    {
      "cell_type": "code",
      "execution_count": null,
      "metadata": {
        "id": "chlFOkVASPrm"
      },
      "outputs": [],
      "source": [
        "class AdditiveAttention(nn.Module):\n",
        "    \"\"\"\n",
        "     Implements the additive attention as proposed in \"Neural Machine Translation by Jointly Learning to Align and Translate\".\n",
        "     Args:\n",
        "         q_dim (int): dimesion of the queries\n",
        "         k_dim (int): dimesion of the keys\n",
        "         attn_dim (int): dimension of intermediate vectors\n",
        "\n",
        "     Inputs: query, key, value\n",
        "        query (torch.FloatTensor):  Query Tensor   (... x T_q x d_q)\n",
        "        key (torch.FloatTensor):  Key Tensor     (... x T_k x d_k)\n",
        "        value (torch.FloatTensor):  Value Tensor   (... x T_v x d_v)\n",
        "\n",
        "    Returns:\n",
        "        torch.FloatTensor: Result of the Attention Mechanism  (... x T_q x d_v)\n",
        "        torch.FloatTensor: Attention map       (... x T_q x T_k)\n",
        "\n",
        "    \"\"\"\n",
        "    def __init__(self, q_dim: int, k_dim: int, attn_dim: int) -> None:\n",
        "        super(AdditiveAttention, self).__init__()\n",
        "\n",
        "        # TODO: Create projections of queries and keys\n",
        "        self.proj_q = nn.Linear(q_dim, attn_dim, bias=False)\n",
        "        self.proj_k = nn.Linear(k_dim, attn_dim, bias=False)\n",
        "\n",
        "        self.bias = nn.Parameter(torch.rand(attn_dim).uniform_(-0.1, 0.1))\n",
        "        self.w = nn.Linear(attn_dim, 1)\n",
        "\n",
        "    def forward(self, query, key, value):\n",
        "        q_ = self.proj_q(query) # (... x T_q x q_dim) -> (... x T_q x attn_dim)\n",
        "        k_ = self.proj_k(key)   # (... x T_k x k_dim) -> (... x T_k x attn_dim)\n",
        "\n",
        "        # Prepare for Broadcasting Semantics\n",
        "        q_ = q_.unsqueeze(-2)   # (... x T_q x attn_dim) -> (... x T_q x  1  x attn_dim)\n",
        "        k_ = k_.unsqueeze(-3)   # (... x T_k x attn_dim) -> (... x  1  x T_k x attn_dim)\n",
        "\n",
        "        # Sum thanks to Broadcasting Semantics\n",
        "        attn_hid = torch.tanh(q_ + k_ + self.bias) # (... x T_q x  1  x attn_dim) + (... x  1  x T_k x attn_dim) + (attn_dim) -> (... x T_q x T_k x attn_dim)\n",
        "\n",
        "        attn_logits = self.w(attn_hid)        # (... x T_q x T_k x attn_dim) -> (... x T_q x T_k x 1)\n",
        "        attn_logits = attn_logits.squeeze(-1) # (... x T_q x T_k x 1) -> (... x T_q x T_k)\n",
        "\n",
        "        attn_weights = F.softmax(attn_logits, dim=-1)\n",
        "\n",
        "        # TODO: Compute the output of the attention\n",
        "        output = torch.matmul(attn_weights, value)\n",
        "\n",
        "        return output, attn_weights"
      ]
    },
    {
      "cell_type": "code",
      "execution_count": null,
      "metadata": {
        "id": "f8HIlos-SPrm",
        "colab": {
          "base_uri": "https://localhost:8080/"
        },
        "outputId": "adffa595-1eef-4a8f-8f09-0e5d89ecb777"
      },
      "outputs": [
        {
          "output_type": "stream",
          "name": "stdout",
          "text": [
            "Epoch 1000/15000\n",
            "\tLoss:\t\t7.584554987261072e-05\n",
            "\tAttention:\t[0.098 0.198 0.099 0.298 0.006 0.198 0.005 0.099]\n",
            "Epoch 2000/15000\n",
            "\tLoss:\t\t1.8587958038551733e-05\n",
            "\tAttention:\t[0.099 0.199 0.099 0.299 0.003 0.199 0.002 0.099]\n",
            "Epoch 3000/15000\n",
            "\tLoss:\t\t7.584767445223406e-06\n",
            "\tAttention:\t[0.099 0.2   0.1   0.299 0.002 0.199 0.002 0.1  ]\n",
            "Epoch 4000/15000\n",
            "\tLoss:\t\t3.76242860511411e-06\n",
            "\tAttention:\t[0.099 0.2   0.1   0.3   0.001 0.199 0.001 0.1  ]\n",
            "Epoch 5000/15000\n",
            "\tLoss:\t\t2.032893235082156e-06\n",
            "\tAttention:\t[0.1   0.2   0.1   0.3   0.001 0.2   0.001 0.1  ]\n",
            "Epoch 6000/15000\n",
            "\tLoss:\t\t1.1457494792921352e-06\n",
            "\tAttention:\t[0.1   0.2   0.1   0.3   0.001 0.2   0.001 0.1  ]\n",
            "Epoch 7000/15000\n",
            "\tLoss:\t\t6.730432460244629e-07\n",
            "\tAttention:\t[0.1   0.2   0.1   0.3   0.001 0.2   0.    0.1  ]\n",
            "Epoch 8000/15000\n",
            "\tLoss:\t\t4.253098779827269e-07\n",
            "\tAttention:\t[0.1 0.2 0.1 0.3 0.  0.2 0.  0.1]\n",
            "Epoch 9000/15000\n",
            "\tLoss:\t\t2.6630823413142934e-07\n",
            "\tAttention:\t[0.1 0.2 0.1 0.3 0.  0.2 0.  0.1]\n",
            "Epoch 10000/15000\n",
            "\tLoss:\t\t1.834227134622779e-07\n",
            "\tAttention:\t[0.1 0.2 0.1 0.3 0.  0.2 0.  0.1]\n",
            "Epoch 11000/15000\n",
            "\tLoss:\t\t1.3190212655445066e-07\n",
            "\tAttention:\t[0.1 0.2 0.1 0.3 0.  0.2 0.  0.1]\n",
            "Epoch 12000/15000\n",
            "\tLoss:\t\t9.626128161244196e-08\n",
            "\tAttention:\t[0.1 0.2 0.1 0.3 0.  0.2 0.  0.1]\n",
            "Epoch 13000/15000\n",
            "\tLoss:\t\t8.26157346978107e-08\n",
            "\tAttention:\t[0.1 0.2 0.1 0.3 0.  0.2 0.  0.1]\n",
            "Epoch 14000/15000\n",
            "\tLoss:\t\t1.5939595243708027e-07\n",
            "\tAttention:\t[0.1 0.2 0.1 0.3 0.  0.2 0.  0.1]\n",
            "Epoch 15000/15000\n",
            "\tLoss:\t\t7.195099982482134e-08\n",
            "\tAttention:\t[0.1 0.2 0.1 0.3 0.  0.2 0.  0.1]\n",
            "\n",
            "Output:\n",
            "tensor([[-2.6769e-01, -2.9300e-01, -5.2315e-01, -5.2481e-01, -3.3187e-02,\n",
            "          2.8153e-01, -3.1354e-01,  4.9976e-01, -5.9589e-01, -2.5559e-01,\n",
            "         -2.9755e-01,  5.6826e-01,  1.1803e-01, -5.4428e-01,  1.5023e-01,\n",
            "         -2.1018e-01,  7.5842e-01,  8.1814e-02, -2.1424e-01, -4.3906e-01,\n",
            "          8.5046e-01,  6.3231e-02,  1.0889e-02,  1.7075e-01, -4.9773e-01,\n",
            "         -3.1654e-01, -2.0645e-01, -6.5731e-01,  1.5716e-03, -5.4493e-01,\n",
            "         -2.6478e-01, -1.4876e-01,  6.4172e-01, -7.5992e-02,  9.9292e-01,\n",
            "          3.7719e-01, -2.7929e-01,  4.1272e-02,  5.2807e-01, -8.0450e-01,\n",
            "         -5.3930e-01, -2.7189e-01, -5.8678e-02,  1.2147e-01, -1.1692e-02,\n",
            "         -1.0579e+00, -4.2047e-01,  1.4641e-03, -2.9872e-01,  3.3687e-01,\n",
            "          2.4643e-01,  4.8843e-01, -5.6130e-01,  9.7058e-02,  2.6111e-01,\n",
            "         -6.9356e-01,  7.3472e-02, -4.8663e-01,  7.0743e-01, -9.4482e-02,\n",
            "         -1.0641e-01,  5.9479e-01,  1.4890e-01, -3.7624e-01,  8.9754e-02,\n",
            "         -1.8222e-01,  1.2226e-01,  2.9682e-01,  1.2011e-01, -1.8702e-01,\n",
            "         -6.5450e-01, -3.4616e-01,  8.1243e-01, -2.2006e-01, -2.2478e-01,\n",
            "         -1.5873e-01,  8.1173e-01,  1.9092e-01, -1.7149e-01,  2.2521e-01,\n",
            "          4.5436e-01,  4.2447e-01, -1.7958e-01,  2.1798e-01,  1.0792e+00,\n",
            "          3.1650e-01,  8.1131e-02,  1.8531e-01,  1.1493e-01, -8.4985e-03,\n",
            "         -2.7507e-01, -4.2254e-01, -3.2238e-01, -6.6891e-01, -4.3868e-01,\n",
            "         -1.2427e+00,  3.2773e-01, -2.5664e-01, -3.1509e-01, -1.4537e-01,\n",
            "         -1.4004e-01,  9.8599e-01,  3.6225e-01,  7.2760e-01,  3.7672e-01,\n",
            "         -3.6142e-01,  5.0252e-01, -1.6720e-01, -1.8106e-01, -4.5646e-02,\n",
            "         -1.8928e-01,  3.5366e-01, -3.1217e-01, -1.6075e-01,  6.0663e-01,\n",
            "         -4.0009e-01, -2.6265e-01,  9.5833e-01,  4.0757e-01, -1.0600e+00,\n",
            "          9.0865e-02,  9.4021e-02,  1.8608e-01, -4.1736e-01,  3.0354e-01,\n",
            "         -7.8653e-01, -3.6053e-05,  2.0072e-02]], grad_fn=<MmBackward0>)\n",
            "\n",
            "\n",
            "Target:\n",
            "tensor([[-2.6784e-01, -2.9335e-01, -5.2305e-01, -5.2459e-01, -3.2892e-02,\n",
            "          2.8214e-01, -3.1348e-01,  4.9960e-01, -5.9624e-01, -2.5552e-01,\n",
            "         -2.9739e-01,  5.6822e-01,  1.1821e-01, -5.4457e-01,  1.5013e-01,\n",
            "         -2.1000e-01,  7.5930e-01,  8.1677e-02, -2.1472e-01, -4.3948e-01,\n",
            "          8.5096e-01,  6.3151e-02,  1.0918e-02,  1.7100e-01, -4.9775e-01,\n",
            "         -3.1695e-01, -2.0621e-01, -6.5781e-01,  1.6383e-03, -5.4531e-01,\n",
            "         -2.6486e-01, -1.4901e-01,  6.4205e-01, -7.5989e-02,  9.9321e-01,\n",
            "          3.7714e-01, -2.7905e-01,  4.1285e-02,  5.2816e-01, -8.0447e-01,\n",
            "         -5.3973e-01, -2.7230e-01, -5.8401e-02,  1.2168e-01, -1.2252e-02,\n",
            "         -1.0585e+00, -4.2075e-01,  1.3785e-03, -2.9878e-01,  3.3690e-01,\n",
            "          2.4685e-01,  4.8836e-01, -5.6140e-01,  9.7077e-02,  2.6159e-01,\n",
            "         -6.9387e-01,  7.3211e-02, -4.8725e-01,  7.0750e-01, -9.4441e-02,\n",
            "         -1.0638e-01,  5.9476e-01,  1.4953e-01, -3.7664e-01,  8.9952e-02,\n",
            "         -1.8186e-01,  1.2280e-01,  2.9664e-01,  1.2038e-01, -1.8726e-01,\n",
            "         -6.5453e-01, -3.4586e-01,  8.1233e-01, -2.2003e-01, -2.2456e-01,\n",
            "         -1.5934e-01,  8.1169e-01,  1.9110e-01, -1.7176e-01,  2.2541e-01,\n",
            "          4.5423e-01,  4.2460e-01, -1.8009e-01,  2.1791e-01,  1.0795e+00,\n",
            "          3.1646e-01,  8.0782e-02,  1.8553e-01,  1.1485e-01, -8.6176e-03,\n",
            "         -2.7506e-01, -4.2248e-01, -3.2259e-01, -6.6891e-01, -4.3891e-01,\n",
            "         -1.2434e+00,  3.2769e-01, -2.5654e-01, -3.1516e-01, -1.4520e-01,\n",
            "         -1.4037e-01,  9.8648e-01,  3.6249e-01,  7.2783e-01,  3.7692e-01,\n",
            "         -3.6165e-01,  5.0224e-01, -1.6743e-01, -1.8115e-01, -4.5531e-02,\n",
            "         -1.8907e-01,  3.5398e-01, -3.1226e-01, -1.6101e-01,  6.0667e-01,\n",
            "         -4.0034e-01, -2.6287e-01,  9.5839e-01,  4.0777e-01, -1.0602e+00,\n",
            "          9.1269e-02,  9.4469e-02,  1.8587e-01, -4.1764e-01,  3.0413e-01,\n",
            "         -7.8673e-01,  3.7258e-04,  2.0007e-02]])\n",
            "\n"
          ]
        }
      ],
      "source": [
        "target_attn_weights = torch.Tensor([[0.1, 0.2, 0.1, 0.3, 0.0, 0.2, 0.0, 0.1]])\n",
        "\n",
        "attn_module = AdditiveAttention(q_dim=dim, k_dim=dim, attn_dim=dim//2)\n",
        "\n",
        "output, attn_weights = dummy_train(attn_module, q, k, v, target_attn_weights)"
      ]
    },
    {
      "cell_type": "code",
      "execution_count": null,
      "metadata": {
        "id": "yWqFueB1SPrn",
        "colab": {
          "base_uri": "https://localhost:8080/",
          "height": 577
        },
        "outputId": "0e16f19a-96c1-4543-8a01-01c894cbbf7f"
      },
      "outputs": [
        {
          "output_type": "display_data",
          "data": {
            "text/plain": [
              "<Figure size 1200x800 with 2 Axes>"
            ],
            "image/png": "[encoded data removed]"
          },
          "metadata": {}
        }
      ],
      "source": [
        "# Plot attention weights of trained attention\n",
        "output, attention = attn_module(q,k,v)\n",
        "\n",
        "plot_attention(\n",
        "    attention,\n",
        ")"
      ]
    },
    {
      "cell_type": "markdown",
      "metadata": {
        "id": "shjNIItaVNNc"
      },
      "source": [
        "# Attention with matrices\n",
        "\n",
        "In the previous excercises we have used only one query. However, in reality, we deal with $m$ queries simultaneously. We can define a stack of queries as a matrix $Q \\in ℝ^{m𝘟d_q}$.\n",
        "\n",
        "Similarly, we'll stack the keys and values in their own matrices $K \\in ℝ^{n𝘟d_k}$ $V \\in ℝ^{n𝘟d_v}$\n",
        "\n",
        "Then we can compute the attention weights for all the queries in parallel:\n",
        "\n",
        "$B = \\frac{1}{\\sqrt{d}}QK^T$\n",
        "\n",
        "$A = \\text{softmax}(B)$, all the weights in each row sum 1\n",
        "\n",
        "$O = AV \\in ℝ^{m𝘟d_v}$\n",
        "\n",
        "Just like before, the output is still the weighted sum of the values scaled by the attention.\n",
        "This is computed by each query, so for each of the $m$ input queries we have an output value, a row in $O$.\n",
        "\n",
        "<p align=\"center\"><br>\n",
        "<img src=\"https://github.com/telecombcn-dl/labs-all/raw/main/labs/attention/images/attention_matrices.png?raw=true\" class=\"center\" title=\"Attention with matrices\" width=\"500\"/>\n",
        "</p><br>"
      ]
    },
    {
      "cell_type": "markdown",
      "metadata": {
        "id": "vuFWtumJC1j9"
      },
      "source": [
        "Let's now define a query matrix Q, with three queries, one per row."
      ]
    },
    {
      "cell_type": "code",
      "execution_count": null,
      "metadata": {
        "id": "bR6YlTOfSPro"
      },
      "outputs": [],
      "source": [
        "dim = 128\n",
        "q = torch.randn(3, dim)\n",
        "k = torch.randn(8, dim)\n",
        "v = k"
      ]
    },
    {
      "cell_type": "markdown",
      "metadata": {
        "id": "_tvik6xCDDO8"
      },
      "source": [
        "Our dummy task now has to predict one `target` vector per each query:"
      ]
    },
    {
      "cell_type": "code",
      "execution_count": null,
      "metadata": {
        "id": "--ZOECXxSPro",
        "colab": {
          "base_uri": "https://localhost:8080/"
        },
        "outputId": "7798fafc-59a4-4a23-c74f-f7068f8df8ce"
      },
      "outputs": [
        {
          "output_type": "stream",
          "name": "stdout",
          "text": [
            "Epoch 1000/15000\n",
            "\tLoss:\t\t0.0004545650153886527\n",
            "\tAttention:\t[[0.097 0.197 0.096 0.299 0.008 0.199 0.007 0.096]\n",
            " [0.396 0.091 0.092 0.191 0.009 0.196 0.009 0.016]\n",
            " [0.012 0.59  0.01  0.091 0.005 0.194 0.006 0.092]]\n",
            "Epoch 2000/15000\n",
            "\tLoss:\t\t0.00012629390403162688\n",
            "\tAttention:\t[[0.099 0.198 0.098 0.299 0.005 0.199 0.004 0.098]\n",
            " [0.398 0.096 0.096 0.195 0.004 0.198 0.004 0.009]\n",
            " [0.006 0.595 0.005 0.095 0.003 0.197 0.003 0.096]]\n",
            "Epoch 3000/15000\n",
            "\tLoss:\t\t5.294075162964873e-05\n",
            "\tAttention:\t[[0.099 0.199 0.099 0.299 0.003 0.199 0.003 0.099]\n",
            " [0.399 0.097 0.097 0.197 0.003 0.199 0.003 0.006]\n",
            " [0.004 0.597 0.003 0.097 0.002 0.198 0.002 0.098]]\n",
            "Epoch 4000/15000\n",
            "\tLoss:\t\t2.6260537197231315e-05\n",
            "\tAttention:\t[[0.099 0.199 0.099 0.299 0.002 0.2   0.002 0.099]\n",
            " [0.399 0.098 0.098 0.198 0.002 0.199 0.002 0.004]\n",
            " [0.003 0.598 0.002 0.098 0.001 0.199 0.001 0.098]]\n",
            "Epoch 5000/15000\n",
            "\tLoss:\t\t1.4133875993138645e-05\n",
            "\tAttention:\t[[0.099 0.199 0.099 0.3   0.002 0.2   0.002 0.1  ]\n",
            " [0.399 0.099 0.099 0.198 0.001 0.199 0.001 0.003]\n",
            " [0.002 0.598 0.002 0.098 0.001 0.199 0.001 0.099]]\n",
            "Epoch 6000/15000\n",
            "\tLoss:\t\t7.941013791423757e-06\n",
            "\tAttention:\t[[0.1   0.199 0.099 0.3   0.001 0.2   0.001 0.1  ]\n",
            " [0.4   0.099 0.099 0.199 0.001 0.199 0.001 0.002]\n",
            " [0.002 0.599 0.001 0.099 0.001 0.199 0.001 0.099]]\n",
            "Epoch 7000/15000\n",
            "\tLoss:\t\t4.578993411996635e-06\n",
            "\tAttention:\t[[0.1   0.2   0.1   0.3   0.001 0.2   0.001 0.1  ]\n",
            " [0.4   0.099 0.099 0.199 0.001 0.2   0.001 0.002]\n",
            " [0.001 0.599 0.001 0.099 0.    0.199 0.    0.099]]\n",
            "Epoch 8000/15000\n",
            "\tLoss:\t\t2.776766450551804e-06\n",
            "\tAttention:\t[[0.1   0.2   0.1   0.3   0.001 0.2   0.001 0.1  ]\n",
            " [0.4   0.099 0.099 0.199 0.001 0.2   0.001 0.001]\n",
            " [0.001 0.599 0.001 0.099 0.    0.2   0.    0.1  ]]\n",
            "Epoch 9000/15000\n",
            "\tLoss:\t\t2.5031863515323494e-06\n",
            "\tAttention:\t[[0.1   0.199 0.1   0.3   0.001 0.2   0.001 0.1  ]\n",
            " [0.399 0.1   0.099 0.2   0.    0.2   0.    0.001]\n",
            " [0.001 0.599 0.001 0.1   0.    0.2   0.    0.1  ]]\n",
            "Epoch 10000/15000\n",
            "\tLoss:\t\t1.1777652844102704e-06\n",
            "\tAttention:\t[[0.1   0.2   0.1   0.3   0.    0.2   0.    0.1  ]\n",
            " [0.4   0.1   0.1   0.2   0.    0.2   0.    0.001]\n",
            " [0.001 0.599 0.    0.1   0.    0.2   0.    0.1  ]]\n",
            "Epoch 11000/15000\n",
            "\tLoss:\t\t8.298055149680295e-07\n",
            "\tAttention:\t[[0.1   0.2   0.1   0.3   0.    0.2   0.    0.1  ]\n",
            " [0.4   0.1   0.1   0.2   0.    0.2   0.    0.001]\n",
            " [0.001 0.6   0.    0.1   0.    0.2   0.    0.1  ]]\n",
            "Epoch 12000/15000\n",
            "\tLoss:\t\t6.287021960815764e-07\n",
            "\tAttention:\t[[0.1   0.2   0.1   0.3   0.    0.2   0.    0.1  ]\n",
            " [0.4   0.1   0.1   0.2   0.    0.2   0.    0.001]\n",
            " [0.    0.6   0.    0.1   0.    0.2   0.    0.1  ]]\n",
            "Epoch 13000/15000\n",
            "\tLoss:\t\t4.787388547811133e-07\n",
            "\tAttention:\t[[0.1   0.2   0.1   0.3   0.    0.2   0.    0.1  ]\n",
            " [0.4   0.1   0.1   0.2   0.    0.2   0.    0.001]\n",
            " [0.    0.6   0.    0.1   0.    0.2   0.    0.1  ]]\n",
            "Epoch 14000/15000\n",
            "\tLoss:\t\t3.8697280047017557e-07\n",
            "\tAttention:\t[[0.1   0.2   0.1   0.3   0.    0.2   0.    0.1  ]\n",
            " [0.4   0.1   0.1   0.2   0.    0.2   0.    0.001]\n",
            " [0.    0.6   0.    0.1   0.    0.2   0.    0.1  ]]\n",
            "Epoch 15000/15000\n",
            "\tLoss:\t\t4.030705724744621e-07\n",
            "\tAttention:\t[[0.1   0.2   0.1   0.3   0.    0.2   0.    0.1  ]\n",
            " [0.4   0.1   0.1   0.2   0.    0.2   0.    0.001]\n",
            " [0.    0.6   0.    0.1   0.    0.2   0.    0.1  ]]\n",
            "\n",
            "Output:\n",
            "tensor([[ 1.1766e-01,  7.6169e-02,  1.0099e+00,  5.6429e-01,  3.4494e-01,\n",
            "          4.1058e-01, -6.2541e-01,  3.4333e-01, -7.7472e-01, -1.3906e-01,\n",
            "         -5.5283e-01, -7.0877e-02,  7.0535e-01,  3.9143e-01,  8.9043e-02,\n",
            "          1.0295e-01, -6.0032e-01, -1.0358e-01,  4.7623e-03, -1.7588e-01,\n",
            "          1.9688e-01,  1.1824e-01,  1.9008e-01,  2.5331e-01, -1.6434e-01,\n",
            "          4.1726e-01,  4.4828e-01, -9.0996e-01, -2.8423e-01,  4.3401e-01,\n",
            "         -1.6445e-01, -9.2606e-01, -6.1355e-01,  4.5625e-01,  4.1989e-01,\n",
            "          2.1471e-02, -4.2450e-01,  1.6011e-01,  4.5084e-02,  1.6354e-01,\n",
            "         -2.7426e-01,  4.4179e-02, -3.7154e-01,  5.0440e-01,  4.9783e-01,\n",
            "          1.2278e+00,  1.0473e+00,  1.1770e-01, -1.5920e-01,  6.5390e-01,\n",
            "          1.9581e-01, -1.8532e-01, -2.4026e-01,  4.2592e-01,  4.0270e-02,\n",
            "          6.7864e-01, -4.4192e-01,  6.3929e-02, -2.8408e-01, -1.6596e-01,\n",
            "         -9.5670e-01,  3.1013e-01,  1.0115e+00,  8.0695e-01, -3.1604e-01,\n",
            "         -1.9900e-01,  4.5540e-01, -3.8331e-01,  2.7135e-01, -2.2879e-02,\n",
            "          1.7317e-01, -2.1878e-02, -3.9606e-01, -3.3020e-02, -1.3265e-01,\n",
            "          4.3005e-01, -4.7215e-01,  1.3383e-01, -8.4178e-02,  3.1252e-01,\n",
            "         -5.9414e-02, -1.3344e-01, -5.5796e-01,  6.1078e-01,  5.0423e-01,\n",
            "          6.0696e-01, -2.1662e-01, -2.9131e-01, -3.1954e-02, -5.2163e-01,\n",
            "         -1.1116e+00,  1.7534e-01, -1.5366e-01, -7.2189e-01, -4.3386e-02,\n",
            "          8.3147e-02, -3.0973e-01,  3.7393e-01,  1.7354e-01,  1.8673e-01,\n",
            "          4.6397e-01,  6.8821e-01, -7.7109e-01, -7.4082e-01, -1.3682e-01,\n",
            "          4.2204e-01, -1.3244e-01,  6.8038e-01,  1.9774e-01,  3.9816e-02,\n",
            "         -4.3216e-01,  4.4185e-01,  5.6156e-01, -1.5610e-01,  2.0904e-01,\n",
            "          4.5774e-01,  6.1844e-01,  1.6995e-01,  4.4452e-01, -6.3884e-01,\n",
            "          8.2590e-02,  2.9271e-02, -3.8477e-01,  3.3783e-01, -1.2716e-02,\n",
            "          1.2129e-01, -1.6258e-01, -5.3967e-01],\n",
            "        [ 2.8290e-01,  2.3610e-02,  6.1992e-01,  1.3084e+00,  5.5339e-01,\n",
            "          5.4421e-01, -9.5962e-01,  2.0678e-01, -5.0465e-01, -3.9834e-01,\n",
            "         -8.5514e-01, -1.4906e-01,  7.5335e-01,  5.1683e-01, -5.3711e-01,\n",
            "          5.4776e-01, -9.7364e-01, -1.5230e-01, -3.4594e-01, -4.4578e-01,\n",
            "          1.6950e-02,  5.4127e-01,  6.6965e-01,  3.0819e-01,  4.2612e-01,\n",
            "          5.7011e-01,  1.1520e+00, -8.4849e-01,  2.5695e-01, -2.5891e-01,\n",
            "         -2.7108e-01, -8.7133e-01, -8.3334e-01,  6.5727e-01,  1.5155e-01,\n",
            "         -1.3191e-01, -5.3591e-01,  1.4944e-01, -2.5642e-01,  8.4234e-01,\n",
            "         -1.8562e-01,  4.2722e-01, -4.8162e-01,  9.6984e-01,  8.1078e-01,\n",
            "          6.3558e-01,  8.8204e-01,  6.1497e-01, -3.6042e-01,  3.5285e-01,\n",
            "         -3.2238e-01, -4.0440e-01,  3.3237e-01,  3.2571e-01,  2.8867e-01,\n",
            "          1.1462e+00, -3.8878e-01,  1.9055e-02, -7.7550e-01, -4.3311e-01,\n",
            "         -5.9855e-01,  7.9626e-01,  6.8820e-01,  5.2135e-01, -5.4701e-01,\n",
            "          2.9486e-02,  1.7027e-01, -3.4989e-01,  1.8964e-01,  9.7512e-03,\n",
            "          5.3088e-01,  2.5317e-01, -4.9195e-01,  4.3813e-01, -1.8489e-01,\n",
            "          5.5887e-01, -3.8673e-01,  6.0912e-03,  2.9590e-01,  5.9041e-01,\n",
            "         -2.1179e-01,  2.0409e-01, -2.1269e-01,  5.8874e-01,  4.2529e-01,\n",
            "          5.6141e-01, -8.0375e-01, -2.1806e-01,  6.8669e-01, -1.1215e+00,\n",
            "         -1.5183e+00, -9.5877e-01,  1.3441e-01, -7.1675e-01,  3.5866e-01,\n",
            "         -3.4708e-01, -1.2018e+00,  5.5906e-01, -1.0717e-01,  3.5190e-01,\n",
            "          8.3700e-04,  3.4944e-01, -3.8404e-01, -7.5526e-01, -6.0869e-01,\n",
            "         -2.1035e-01,  2.5429e-01,  5.5760e-01,  7.0647e-01,  3.9700e-01,\n",
            "          2.3888e-01,  4.8945e-01,  6.4434e-01, -5.0667e-01,  2.8547e-01,\n",
            "         -1.6908e-01,  7.4948e-02, -1.2117e-01,  2.8896e-01, -6.7267e-01,\n",
            "         -1.8520e-01, -7.7827e-02,  3.8962e-01,  5.1405e-01, -3.1844e-01,\n",
            "         -1.1241e-01, -1.4593e-01, -1.6957e-01],\n",
            "        [-2.8560e-01, -1.1073e-02,  6.0950e-01,  5.6296e-01, -3.8577e-01,\n",
            "         -6.2461e-01, -2.9793e-01,  3.1356e-01, -4.5703e-01, -1.2187e-01,\n",
            "         -3.8787e-01, -2.1219e-01,  5.0588e-01,  3.0367e-01,  6.8780e-01,\n",
            "          9.0536e-01, -8.6297e-01, -7.7804e-01,  6.2776e-01,  1.3540e-01,\n",
            "          5.2280e-01, -6.4717e-01, -6.1309e-01,  2.8165e-01, -5.9469e-01,\n",
            "          5.2684e-02,  1.0911e-01, -4.1822e-01, -8.8967e-01,  1.4839e+00,\n",
            "          6.1422e-02, -1.8665e-01, -5.7023e-03,  2.5262e-01,  3.2950e-01,\n",
            "          1.1662e-02, -7.9488e-01,  3.2055e-01, -1.2437e-01, -5.9407e-03,\n",
            "         -4.7356e-01, -4.1332e-01, -6.3221e-01,  3.4016e-01, -3.2001e-01,\n",
            "          1.5563e+00,  7.3549e-01,  9.6343e-01, -3.0166e-01,  6.1427e-01,\n",
            "          2.4323e-05, -4.0053e-01, -4.4990e-01,  8.6008e-01,  6.2429e-02,\n",
            "          1.8276e-01, -2.1732e-01,  1.0496e+00, -9.9016e-02,  5.8585e-01,\n",
            "         -1.2296e+00, -3.9679e-01,  6.2233e-01,  1.1550e+00, -1.4361e-01,\n",
            "         -6.3207e-01,  7.6608e-01, -1.4988e-02, -3.1161e-01,  1.2603e+00,\n",
            "          4.9355e-01,  5.1182e-01, -2.2729e-01, -9.7196e-01, -1.2984e-01,\n",
            "         -5.8222e-01, -1.0938e+00,  4.7230e-01, -1.4068e-01,  4.4890e-01,\n",
            "         -3.6687e-02, -6.9092e-03, -8.7648e-01, -1.1069e+00, -3.1775e-01,\n",
            "          1.3973e+00, -7.9846e-01,  2.7043e-02, -3.7691e-01, -5.6030e-01,\n",
            "         -3.6441e-01,  5.6276e-01, -2.4559e-01, -4.4464e-01, -1.7472e-03,\n",
            "         -4.4168e-01, -4.4470e-01,  6.4430e-01,  7.9160e-01,  9.9711e-02,\n",
            "          4.1521e-01,  8.9108e-01, -1.1654e+00, -1.1279e+00, -2.2562e-01,\n",
            "          5.8283e-01, -4.9495e-01,  8.7094e-01, -1.2770e+00,  3.6995e-01,\n",
            "         -2.9232e-01, -1.2116e-01,  1.0213e+00, -6.7306e-01,  4.8362e-01,\n",
            "          7.0710e-01,  3.1156e-01,  4.1150e-01,  2.2431e-01, -6.8796e-01,\n",
            "         -2.0858e-01,  2.2853e-01, -1.3644e+00,  9.7690e-02,  4.1336e-01,\n",
            "          1.5034e-02, -4.7145e-01, -8.0703e-01]], grad_fn=<MmBackward0>)\n",
            "\n",
            "\n",
            "Target:\n",
            "tensor([[ 1.1781e-01,  7.6665e-02,  1.0105e+00,  5.6451e-01,  3.4533e-01,\n",
            "          4.1129e-01, -6.2581e-01,  3.4401e-01, -7.7519e-01, -1.3891e-01,\n",
            "         -5.5307e-01, -7.0439e-02,  7.0598e-01,  3.9117e-01,  8.8647e-02,\n",
            "          1.0200e-01, -6.0027e-01, -1.0270e-01,  4.3308e-03, -1.7617e-01,\n",
            "          1.9669e-01,  1.1896e-01,  1.9103e-01,  2.5385e-01, -1.6444e-01,\n",
            "          4.1790e-01,  4.4938e-01, -9.1127e-01, -2.8334e-01,  4.3351e-01,\n",
            "         -1.6498e-01, -9.2751e-01, -6.1417e-01,  4.5647e-01,  4.2001e-01,\n",
            "          2.2406e-02, -4.2438e-01,  1.5965e-01,  4.5371e-02,  1.6449e-01,\n",
            "         -2.7422e-01,  4.4939e-02, -3.7161e-01,  5.0451e-01,  4.9895e-01,\n",
            "          1.2277e+00,  1.0481e+00,  1.1747e-01, -1.5992e-01,  6.5404e-01,\n",
            "          1.9561e-01, -1.8543e-01, -2.3950e-01,  4.2536e-01,  4.0288e-02,\n",
            "          6.7950e-01, -4.4207e-01,  6.3553e-02, -2.8442e-01, -1.6679e-01,\n",
            "         -9.5664e-01,  3.1057e-01,  1.0125e+00,  8.0697e-01, -3.1627e-01,\n",
            "         -1.9871e-01,  4.5482e-01, -3.8393e-01,  2.7206e-01, -2.3208e-02,\n",
            "          1.7348e-01, -2.2125e-02, -3.9590e-01, -3.2315e-02, -1.3276e-01,\n",
            "          4.3106e-01, -4.7154e-01,  1.3433e-01, -8.3517e-02,  3.1313e-01,\n",
            "         -5.9619e-02, -1.3383e-01, -5.5792e-01,  6.1204e-01,  5.0507e-01,\n",
            "          6.0662e-01, -2.1695e-01, -2.9248e-01, -3.1416e-02, -5.2194e-01,\n",
            "         -1.1132e+00,  1.7468e-01, -1.5377e-01, -7.2255e-01, -4.2970e-02,\n",
            "          8.3614e-02, -3.0994e-01,  3.7446e-01,  1.7274e-01,  1.8638e-01,\n",
            "          4.6364e-01,  6.8789e-01, -7.7142e-01, -7.4148e-01, -1.3683e-01,\n",
            "          4.2170e-01, -1.3165e-01,  6.8047e-01,  1.9868e-01,  3.9061e-02,\n",
            "         -4.3183e-01,  4.4244e-01,  5.6183e-01, -1.5612e-01,  2.0935e-01,\n",
            "          4.5729e-01,  6.1858e-01,  1.6956e-01,  4.4483e-01, -6.3858e-01,\n",
            "          8.3251e-02,  2.9217e-02, -3.8400e-01,  3.3814e-01, -1.3132e-02,\n",
            "          1.2110e-01, -1.6122e-01, -5.3887e-01],\n",
            "        [ 2.8309e-01,  2.3942e-02,  6.1981e-01,  1.3096e+00,  5.5322e-01,\n",
            "          5.4489e-01, -9.6021e-01,  2.0711e-01, -5.0495e-01, -3.9835e-01,\n",
            "         -8.5529e-01, -1.4921e-01,  7.5387e-01,  5.1701e-01, -5.3803e-01,\n",
            "          5.4875e-01, -9.7365e-01, -1.5382e-01, -3.4621e-01, -4.4575e-01,\n",
            "          1.5865e-02,  5.4257e-01,  6.7059e-01,  3.0890e-01,  4.2706e-01,\n",
            "          5.7148e-01,  1.1535e+00, -8.4945e-01,  2.5826e-01, -2.5918e-01,\n",
            "         -2.7210e-01, -8.7254e-01, -8.3349e-01,  6.5748e-01,  1.5030e-01,\n",
            "         -1.3294e-01, -5.3541e-01,  1.4979e-01, -2.5626e-01,  8.4466e-01,\n",
            "         -1.8572e-01,  4.2753e-01, -4.8158e-01,  9.7098e-01,  8.1092e-01,\n",
            "          6.3421e-01,  8.8155e-01,  6.1636e-01, -3.6114e-01,  3.5243e-01,\n",
            "         -3.2282e-01, -4.0440e-01,  3.3388e-01,  3.2527e-01,  2.8875e-01,\n",
            "          1.1469e+00, -3.8831e-01,  1.9148e-02, -7.7674e-01, -4.3445e-01,\n",
            "         -5.9882e-01,  7.9713e-01,  6.8803e-01,  5.2143e-01, -5.4805e-01,\n",
            "          3.0096e-02,  1.6948e-01, -3.5009e-01,  1.8953e-01,  1.0713e-02,\n",
            "          5.3204e-01,  2.5443e-01, -4.9219e-01,  4.3948e-01, -1.8549e-01,\n",
            "          5.6032e-01, -3.8632e-01,  5.8438e-03,  2.9691e-01,  5.9127e-01,\n",
            "         -2.1260e-01,  2.0515e-01, -2.1155e-01,  5.8811e-01,  4.2475e-01,\n",
            "          5.6244e-01, -8.0555e-01, -2.1833e-01,  6.8836e-01, -1.1235e+00,\n",
            "         -1.5197e+00, -9.6069e-01,  1.3471e-01, -7.1669e-01,  3.5941e-01,\n",
            "         -3.4792e-01, -1.2036e+00,  5.5995e-01, -1.0766e-01,  3.5200e-01,\n",
            "          7.1687e-04,  3.4857e-01, -3.8395e-01, -7.5573e-01, -6.0936e-01,\n",
            "         -2.1171e-01,  2.5466e-01,  5.5874e-01,  7.0697e-01,  3.9735e-01,\n",
            "          2.3979e-01,  4.8959e-01,  6.4488e-01, -5.0754e-01,  2.8670e-01,\n",
            "         -1.7017e-01,  7.4512e-02, -1.2150e-01,  2.8812e-01, -6.7238e-01,\n",
            "         -1.8583e-01, -7.7995e-02,  3.9121e-01,  5.1485e-01, -3.1921e-01,\n",
            "         -1.1360e-01, -1.4500e-01, -1.6869e-01],\n",
            "        [-2.8595e-01, -1.0737e-02,  6.0998e-01,  5.6216e-01, -3.8543e-01,\n",
            "         -6.2406e-01, -2.9813e-01,  3.1328e-01, -4.5727e-01, -1.2123e-01,\n",
            "         -3.8835e-01, -2.1123e-01,  5.0634e-01,  3.0277e-01,  6.8882e-01,\n",
            "          9.0392e-01, -8.6314e-01, -7.7668e-01,  6.2825e-01,  1.3515e-01,\n",
            "          5.2245e-01, -6.4784e-01, -6.1361e-01,  2.8233e-01, -5.9539e-01,\n",
            "          5.2593e-02,  1.0837e-01, -4.1985e-01, -8.8976e-01,  1.4835e+00,\n",
            "          6.1978e-02, -1.8703e-01, -6.4625e-03,  2.5179e-01,  3.3041e-01,\n",
            "          1.2747e-02, -7.9464e-01,  3.1919e-01, -1.2451e-01, -6.1212e-03,\n",
            "         -4.7377e-01, -4.1284e-01, -6.3175e-01,  3.3955e-01, -3.1929e-01,\n",
            "          1.5584e+00,  7.3661e-01,  9.6201e-01, -3.0117e-01,  6.1446e-01,\n",
            "          4.7884e-05, -4.0094e-01, -4.4981e-01,  8.5951e-01,  6.3113e-02,\n",
            "          1.8275e-01, -2.1790e-01,  1.0491e+00, -9.8279e-02,  5.8597e-01,\n",
            "         -1.2295e+00, -3.9706e-01,  6.2420e-01,  1.1548e+00, -1.4416e-01,\n",
            "         -6.3206e-01,  7.6702e-01, -1.5761e-02, -3.1115e-01,  1.2597e+00,\n",
            "          4.9295e-01,  5.1043e-01, -2.2751e-01, -9.7202e-01, -1.2966e-01,\n",
            "         -5.8215e-01, -1.0933e+00,  4.7359e-01, -1.4029e-01,  4.4884e-01,\n",
            "         -3.6213e-02, -7.6209e-03, -8.7786e-01, -1.1053e+00, -3.1635e-01,\n",
            "          1.3959e+00, -7.9724e-01,  2.6375e-02, -3.7742e-01, -5.5920e-01,\n",
            "         -3.6528e-01,  5.6358e-01, -2.4611e-01, -4.4550e-01, -2.1403e-03,\n",
            "         -4.4060e-01, -4.4350e-01,  6.4428e-01,  7.9140e-01,  9.8641e-02,\n",
            "          4.1532e-01,  8.9159e-01, -1.1663e+00, -1.1279e+00, -2.2504e-01,\n",
            "          5.8320e-01, -4.9467e-01,  8.6945e-01, -1.2771e+00,  3.6770e-01,\n",
            "         -2.9342e-01, -1.2029e-01,  1.0209e+00, -6.7231e-01,  4.8404e-01,\n",
            "          7.0863e-01,  3.1266e-01,  4.1111e-01,  2.2596e-01, -6.8898e-01,\n",
            "         -2.0781e-01,  2.2895e-01, -1.3660e+00,  9.7418e-02,  4.1409e-01,\n",
            "          1.5123e-02, -4.7108e-01, -8.0738e-01]])\n",
            "\n"
          ]
        }
      ],
      "source": [
        "target_attn_weights = torch.Tensor([[0.1, 0.2, 0.1, 0.3, 0.0, 0.2, 0.0, 0.1],\n",
        "                                    [0.4, 0.1, 0.1, 0.2, 0.0, 0.2, 0.0, 0.0],\n",
        "                                    [0.0, 0.6, 0.0, 0.1, 0.0, 0.2, 0.0, 0.1]])\n",
        "\n",
        "attn_module = AdditiveAttention(q_dim=dim, k_dim=dim, attn_dim=dim//2)\n",
        "\n",
        "output, attn_weights = dummy_train(attn_module, q, k, v, target_attn_weights)"
      ]
    },
    {
      "cell_type": "code",
      "execution_count": null,
      "metadata": {
        "id": "tdD_01F5SPrp",
        "colab": {
          "base_uri": "https://localhost:8080/",
          "height": 587
        },
        "outputId": "7e66edc0-9cc4-40f9-b376-b3201de99999"
      },
      "outputs": [
        {
          "output_type": "display_data",
          "data": {
            "text/plain": [
              "<Figure size 1200x800 with 2 Axes>"
            ],
            "image/png": "[encoded data removed]"
          },
          "metadata": {}
        }
      ],
      "source": [
        "# Plot attention weights of trained attention\n",
        "output, attention = attn_module(q,k,v)\n",
        "\n",
        "plot_attention(\n",
        "    attention,\n",
        ")"
      ]
    },
    {
      "cell_type": "markdown",
      "metadata": {
        "id": "XKD6UER-tNJV"
      },
      "source": [
        "# Exercise 3: Neural Machine Translation with RNNs and attention"
      ]
    },
    {
      "cell_type": "markdown",
      "metadata": {
        "id": "qfnBy3LPto2S"
      },
      "source": [
        "# Sequence-to-sequence Models\n",
        "\n",
        "To better motivate the use of attention, we are going to introduce a new family of models, the sequence-to-sequence, or se2seq, models. As the name suggests, seq2seq models map sequences to sequences, but both of arbitrary length.\n",
        "\n",
        "This systems usually use an encoder-decoder architecture, composed of:\n",
        "\n",
        "*   Encoder: processes the input sequence and compresses information into a context vector of fixed length. This embedding is a summary of the whole source sentence.\n",
        "*   Decoder: it takes the context vector and produces the transformed output.\n",
        "\n",
        "A classic example of seq2seq models are Machine Translation (MT) models. In this task, we deal with an input sequence corresponding to a sentence in the *source* language, and we aim to produce a translation in a *target* language:\n",
        "\n",
        "<p align=\"center\"><br>\n",
        "<img src=\"https://github.com/telecombcn-dl/labs-all/raw/main/labs/attention/images/enc_dec_gif_mt.gif?raw=true\" class=\"center\" title=\"NMT decoding gift\" width=\"500\"/>\n",
        "</p><br>\n",
        "\n",
        "Note that we generate the target sentence *autoregressively*, i.e. at each decoding step we produce a single word.\n",
        "\n",
        "In order to correctly translate, at each decoding step humans usually pay attention to different parts of the source sentence, leaving the rest aside. This is the intuition behind the attention mechanism.\n",
        "\n",
        "### Bottleneck Problem\n",
        "The seq2seq architecture can be implemented with RNNs. However there is a main issue with this models: the decoder only uses the **last** state of the encoder as a context vector of the source sentence.\n",
        "\n",
        "<p align=\"center\"><br>\n",
        "<img src=\"https://github.com/telecombcn-dl/labs-all/raw/main/labs/attention/images/bottleneck_problem.png?raw=true\" class=\"center\" title=\"Bottleneck problem\" width=\"500\"/>\n",
        "</p><br>\n",
        "\n",
        "Why is this a problem? Since the last state of the encoder is of fixed size, it is not able to store the information of long sentences, and it often forgets the first parts once it completes processing the whole input.\n",
        "\n",
        "Rather than building a single context vector out of the encoder's last hidden state, the attention mechanism creates shortcuts between each hidden state in the decoder and the entire source input. And this shortcuts are customizable for each output element."
      ]
    },
    {
      "cell_type": "markdown",
      "metadata": {
        "id": "pwdPLWokuT9I"
      },
      "source": [
        "In this lab, we are going to build a seq2seq model for translating text from English to Catalan, and will eventually visualize the attention patterns discovered by the model."
      ]
    },
    {
      "cell_type": "markdown",
      "metadata": {
        "id": "oGsTFfL7yvUb"
      },
      "source": [
        "## Download dataset"
      ]
    },
    {
      "cell_type": "code",
      "execution_count": null,
      "metadata": {
        "id": "nKR3h5WaSPr1",
        "colab": {
          "base_uri": "https://localhost:8080/"
        },
        "outputId": "644e4eda-7855-4872-a720-e118d84fc5cf"
      },
      "outputs": [
        {
          "output_type": "stream",
          "name": "stdout",
          "text": [
            "--2024-12-13 09:57:39--  http://www.manythings.org/anki/cat-eng.zip\n",
            "Resolving www.manythings.org (www.manythings.org)... 173.254.30.110\n",
            "Connecting to www.manythings.org (www.manythings.org)|173.254.30.110|:80... connected.\n",
            "HTTP request sent, awaiting response... 200 OK\n",
            "Length: 54935 (54K) [application/zip]\n",
            "Saving to: ‘cat-eng.zip’\n",
            "\n",
            "cat-eng.zip         100%[===================>]  53.65K  --.-KB/s    in 0.04s   \n",
            "\n",
            "2024-12-13 09:57:39 (1.17 MB/s) - ‘cat-eng.zip’ saved [54935/54935]\n",
            "\n",
            "Archive:  cat-eng.zip\n",
            "  inflating: _about.txt              \n",
            "  inflating: cat.txt                 \n"
          ]
        }
      ],
      "source": [
        "!wget http://www.manythings.org/anki/cat-eng.zip\n",
        "!unzip cat-eng.zip && rm cat-eng.zip\n",
        "!mkdir data\n",
        "!mv \"cat.txt\" \"data/eng-cat.txt\""
      ]
    },
    {
      "cell_type": "code",
      "execution_count": null,
      "metadata": {
        "id": "LJJIfjxOSPr2"
      },
      "outputs": [],
      "source": [
        "SOS_token = 0\n",
        "EOS_token = 1\n",
        "\n",
        "class Lang:\n",
        "    def __init__(self, name):\n",
        "        self.name = name\n",
        "        self.word2index = {}\n",
        "        self.word2count = {}\n",
        "        self.index2word = {0: \"SOS\", 1: \"EOS\"}\n",
        "        self.n_words = 2  # Count SOS and EOS\n",
        "\n",
        "    def addSentence(self, sentence):\n",
        "        for word in sentence.split(' '):\n",
        "            self.addWord(word)\n",
        "\n",
        "    def addWord(self, word):\n",
        "        if word not in self.word2index:\n",
        "            self.word2index[word] = self.n_words\n",
        "            self.word2count[word] = 1\n",
        "            self.index2word[self.n_words] = word\n",
        "            self.n_words += 1\n",
        "        else:\n",
        "            self.word2count[word] += 1"
      ]
    },
    {
      "cell_type": "markdown",
      "metadata": {
        "id": "iBxJSbT9y9jo"
      },
      "source": [
        "## Data pre-processing\n",
        "\n",
        "First we need to pre-process the raw text data. We need to make sure to lowercase all of it, remove all non-letter characters, and limit the maximum lenght of the sentences to MAX_LENGTH. Eventually, we create ```pairs```, a list where each component has a sentence and its translation, both pre-processed.\n",
        "\n"
      ]
    },
    {
      "cell_type": "code",
      "execution_count": null,
      "metadata": {
        "id": "Z1XopkZ3SPr3",
        "colab": {
          "base_uri": "https://localhost:8080/"
        },
        "outputId": "4c10c0f3-9d93-48a1-d797-cda2db655ffa"
      },
      "outputs": [
        {
          "output_type": "stream",
          "name": "stdout",
          "text": [
            "Reading lines...\n",
            "Read 1375 sentence pairs\n",
            "Trimmed to 1373 sentence pairs\n",
            "Counting words...\n",
            "Counted words:\n",
            "eng 1464\n",
            "cat 1815\n",
            "['tell me when he returns .', 'avisa m quan torni .']\n"
          ]
        }
      ],
      "source": [
        "# Turn a Unicode string to plain ASCII, thanks to\n",
        "# http://stackoverflow.com/a/518232/2809427\n",
        "def unicodeToAscii(s):\n",
        "    return ''.join(\n",
        "        c for c in unicodedata.normalize('NFD', s)\n",
        "        if unicodedata.category(c) != 'Mn'\n",
        "    )\n",
        "\n",
        "# Lowercase, trim, and remove non-letter characters\n",
        "def normalizeString(s):\n",
        "    s = unicodeToAscii(s.lower().strip())\n",
        "    s = re.sub(r\"([.!?])\", r\" \\1\", s)\n",
        "    s = re.sub(r\"[^a-zA-Z.!?]+\", r\" \", s)\n",
        "    return s\n",
        "\n",
        "def readLangs(lang1, lang2, reverse=False):\n",
        "    print(\"Reading lines...\")\n",
        "\n",
        "    # Read the file and split into lines\n",
        "    lines = open('data/%s-%s.txt' % (lang1, lang2), encoding='utf-8').\\\n",
        "        read().strip().split('\\n')\n",
        "\n",
        "    # Remove extra info\n",
        "    new_lines = []\n",
        "    for line in lines:\n",
        "        new_lines.append(line[0:(line.find('CC-BY')-1)])\n",
        "\n",
        "\n",
        "    # Split every line into pairs and normalize\n",
        "    pairs = [[normalizeString(s) for s in l.split('\\t')] for l in new_lines]\n",
        "\n",
        "    # Reverse pairs, make Lang instances\n",
        "    if reverse:\n",
        "        pairs = [list(reversed(p)) for p in pairs]\n",
        "        input_lang = Lang(lang2)\n",
        "        output_lang = Lang(lang1)\n",
        "    else:\n",
        "        input_lang = Lang(lang1)\n",
        "        output_lang = Lang(lang2)\n",
        "\n",
        "    return input_lang, output_lang, pairs\n",
        "\n",
        "MAX_LENGTH = 20\n",
        "\n",
        "def filterPair(p):\n",
        "    return len(p[0].split(' ')) < MAX_LENGTH and \\\n",
        "        len(p[1].split(' ')) < MAX_LENGTH\n",
        "\n",
        "def filterPairs(pairs):\n",
        "    return [pair for pair in pairs if filterPair(pair)]\n",
        "\n",
        "def prepareData(lang1, lang2, reverse=False):\n",
        "    input_lang, output_lang, pairs = readLangs(lang1, lang2, reverse)\n",
        "    print(\"Read %s sentence pairs\" % len(pairs))\n",
        "    pairs = filterPairs(pairs)\n",
        "    print(\"Trimmed to %s sentence pairs\" % len(pairs))\n",
        "    print(\"Counting words...\")\n",
        "    for pair in pairs:\n",
        "        input_lang.addSentence(pair[0])\n",
        "        output_lang.addSentence(pair[1])\n",
        "    print(\"Counted words:\")\n",
        "    print(input_lang.name, input_lang.n_words)\n",
        "    print(output_lang.name, output_lang.n_words)\n",
        "    return input_lang, output_lang, pairs\n",
        "\n",
        "\n",
        "input_lang, output_lang, pairs = prepareData('eng', 'cat', False)\n",
        "print(random.choice(pairs))"
      ]
    },
    {
      "cell_type": "markdown",
      "metadata": {
        "id": "V29yklurzHIo"
      },
      "source": [
        "We have a total of 1306 pairs of sentences containing 1436 english words and 1773 catalan words. We use a very small dataset to reduce training time, but a larger dataset would be necessary to learn something meaningful."
      ]
    },
    {
      "cell_type": "markdown",
      "metadata": {
        "id": "VZedNSCNzQ2g"
      },
      "source": [
        "## Building the seq2seq model"
      ]
    },
    {
      "cell_type": "markdown",
      "metadata": {
        "id": "vxLIx4S0mUA_"
      },
      "source": [
        "We proceed to build our seq2seq model with attention. First we define our encoder RNN:"
      ]
    },
    {
      "cell_type": "code",
      "execution_count": null,
      "metadata": {
        "id": "Kx-xxjniSPr4"
      },
      "outputs": [],
      "source": [
        "class EncoderRNN(nn.Module):\n",
        "    def __init__(self, input_size, hidden_size):\n",
        "        super(EncoderRNN, self).__init__()\n",
        "        self.hidden_size = hidden_size\n",
        "\n",
        "        # TODO: Define the Embedding matrix (use nn.Embedding)\n",
        "        self.embedding = nn.Embedding(input_size, hidden_size)\n",
        "\n",
        "        self.gru = nn.GRU(hidden_size, hidden_size, batch_first=True)\n",
        "\n",
        "    def forward(self, input, hidden):\n",
        "        embedded = self.embedding(input)\n",
        "        output = embedded\n",
        "        output, hidden = self.gru(output, hidden)\n",
        "        return output, hidden\n",
        "\n",
        "    def initHidden(self):\n",
        "        return torch.zeros(1, 1, self.hidden_size, device=device)"
      ]
    },
    {
      "cell_type": "markdown",
      "metadata": {
        "id": "uxm-SsMxZfCz"
      },
      "source": [
        "Now we define our decoder, with an attention mechanism (```self.attn```) built inside. Try to map the code with the following diagram:\n",
        "\n",
        "<p align=\"center\"><br>\n",
        "<img src=\"https://github.com/telecombcn-dl/labs-all/raw/main/labs/attention/images/attention_tensor_dance_last.jpeg?raw=true\" class=\"center\" title=\"Decoding with attention\" width=\"800\"/>\n",
        "</p><br>"
      ]
    },
    {
      "cell_type": "code",
      "execution_count": null,
      "metadata": {
        "id": "eYduOi3eSPr5"
      },
      "outputs": [],
      "source": [
        "class AttnDecoderRNN(nn.Module):\n",
        "    def __init__(self, hidden_size, output_size, dropout_p=0.1, max_length=MAX_LENGTH):\n",
        "        super(AttnDecoderRNN, self).__init__()\n",
        "        self.hidden_size = hidden_size\n",
        "        self.output_size = output_size\n",
        "        self.dropout_p = dropout_p\n",
        "        self.max_length = max_length\n",
        "\n",
        "        self.embedding = nn.Embedding(self.output_size, self.hidden_size)\n",
        "        self.gru = nn.GRU(self.hidden_size, self.hidden_size, batch_first=True)\n",
        "        self.dropout = nn.Dropout(self.dropout_p)\n",
        "        # Here we define the attention we use\n",
        "        self.attn = AdditiveAttention(self.hidden_size, self.hidden_size, self.hidden_size // 2)\n",
        "        #self.attn = MultiplicativeAttention(self.hidden_size, self.hidden_size)\n",
        "        self.attn_combine = nn.Linear(self.hidden_size * 2, self.hidden_size)\n",
        "        self.out = nn.Linear(self.hidden_size, self.output_size)\n",
        "\n",
        "    def forward(self, input, hidden, encoder_outputs):\n",
        "        embedded = self.embedding(input)\n",
        "        embedded = self.dropout(embedded)\n",
        "\n",
        "        x, hidden = self.gru(embedded, hidden)\n",
        "        context, attn_weights = self.attn(query=x, key=encoder_outputs, value=encoder_outputs)\n",
        "\n",
        "        # TODO: compute concatenation of the decoder hidden states and the context vectors\n",
        "        x_w_context = torch.cat((x, context), dim=-1)\n",
        "\n",
        "        x_w_context = self.attn_combine(x_w_context)\n",
        "        output = F.log_softmax(self.out(x_w_context), dim=-1)\n",
        "        return output, hidden, attn_weights\n",
        "\n",
        "    def initHidden(self):\n",
        "        return torch.zeros(1, 1, self.hidden_size, device=device)"
      ]
    },
    {
      "cell_type": "code",
      "execution_count": null,
      "metadata": {
        "id": "DZs6dRX4SPr5"
      },
      "outputs": [],
      "source": [
        "def indexesFromSentence(lang, sentence):\n",
        "    return [lang.word2index[word] for word in sentence.split(' ')]\n",
        "\n",
        "\n",
        "def tensorFromSentence(lang, sentence):\n",
        "    indexes = indexesFromSentence(lang, sentence)\n",
        "    indexes.append(EOS_token)\n",
        "    return torch.tensor(indexes, dtype=torch.long, device=device).view(1, -1)\n",
        "\n",
        "\n",
        "def tensorsFromPair(pair):\n",
        "    input_tensor = tensorFromSentence(input_lang, pair[0])\n",
        "    target_tensor = tensorFromSentence(output_lang, pair[1])\n",
        "    return (input_tensor, target_tensor)"
      ]
    },
    {
      "cell_type": "code",
      "execution_count": null,
      "metadata": {
        "id": "ODtTvNhRSPr6"
      },
      "outputs": [],
      "source": [
        "def train(input_tensor, target_tensor, encoder, decoder, encoder_optimizer, decoder_optimizer, criterion, max_length=MAX_LENGTH):\n",
        "    encoder_hidden = encoder.initHidden()\n",
        "\n",
        "    encoder_optimizer.zero_grad()\n",
        "    decoder_optimizer.zero_grad()\n",
        "\n",
        "    encoder_outputs, encoder_hidden = encoder(input_tensor, encoder_hidden)\n",
        "\n",
        "    # First hidden state used by the decoder is the last encoder hidden state\n",
        "    decoder_hidden = encoder_hidden\n",
        "\n",
        "    # We feed the decoder with the whole target sentence (teacher forcing),\n",
        "    # first we append SOS_token\n",
        "    decoder_input = torch.cat([\n",
        "        torch.tensor([[SOS_token]], device=device),\n",
        "        target_tensor[:, :-1]\n",
        "    ], dim=1)\n",
        "\n",
        "\n",
        "    decoder_output, decoder_hidden, decoder_attention = decoder(\n",
        "                decoder_input, decoder_hidden, encoder_outputs)\n",
        "\n",
        "    loss = criterion(\n",
        "        decoder_output.view(-1, decoder_output.size(-1)),\n",
        "        target_tensor.view(-1)\n",
        "    )\n",
        "    loss.backward()\n",
        "\n",
        "    encoder_optimizer.step()\n",
        "    decoder_optimizer.step()\n",
        "\n",
        "    return loss.item() / target_tensor.numel()"
      ]
    },
    {
      "cell_type": "code",
      "execution_count": null,
      "metadata": {
        "id": "jggrYqboSPr6"
      },
      "outputs": [],
      "source": [
        "import time\n",
        "\n",
        "def asMinutes(s):\n",
        "    m = math.floor(s / 60)\n",
        "    s -= m * 60\n",
        "    return '%dm %ds' % (m, s)\n",
        "\n",
        "\n",
        "def timeSince(since, percent):\n",
        "    now = time.time()\n",
        "    s = now - since\n",
        "    es = s / (percent)\n",
        "    rs = es - s\n",
        "    return '%s (- %s)' % (asMinutes(s), asMinutes(rs))\n",
        "\n",
        "def showPlot(points):\n",
        "    plt.figure()\n",
        "    fig, ax = plt.subplots()\n",
        "    # this locator puts ticks at regular intervals\n",
        "    loc = ticker.MultipleLocator(base=0.2)\n",
        "    ax.yaxis.set_major_locator(loc)\n",
        "    plt.plot(points)"
      ]
    },
    {
      "cell_type": "code",
      "execution_count": null,
      "metadata": {
        "id": "pnTkMgloSPr7"
      },
      "outputs": [],
      "source": [
        "def trainIters(encoder, decoder, n_iters, print_every=1000, plot_every=100, learning_rate=0.01):\n",
        "    start = time.time()\n",
        "    plot_losses = []\n",
        "    print_loss_total = 0  # Reset every print_every\n",
        "    plot_loss_total = 0  # Reset every plot_every\n",
        "\n",
        "    encoder_optimizer = optim.SGD(encoder.parameters(), lr=learning_rate)\n",
        "    decoder_optimizer = optim.SGD(decoder.parameters(), lr=learning_rate)\n",
        "\n",
        "    # Random sample of n_iters pairs\n",
        "    training_pairs = [tensorsFromPair(random.choice(pairs))\n",
        "                      for i in range(n_iters)]\n",
        "    criterion = nn.NLLLoss()\n",
        "\n",
        "    for iter in range(1, n_iters + 1):\n",
        "        training_pair = training_pairs[iter - 1]\n",
        "        input_tensor = training_pair[0]\n",
        "        target_tensor = training_pair[1]\n",
        "\n",
        "        loss = train(input_tensor, target_tensor, encoder,\n",
        "                     decoder, encoder_optimizer, decoder_optimizer, criterion)\n",
        "        print_loss_total += loss\n",
        "        plot_loss_total += loss\n",
        "\n",
        "        if iter % print_every == 0:\n",
        "            print_loss_avg = print_loss_total / print_every\n",
        "            print_loss_total = 0\n",
        "            print('%s (%d %d%%) %.4f' % (timeSince(start, iter / n_iters),\n",
        "                                         iter, iter / n_iters * 100, print_loss_avg))\n",
        "\n",
        "        if iter % plot_every == 0:\n",
        "            plot_loss_avg = plot_loss_total / plot_every\n",
        "            plot_losses.append(plot_loss_avg)\n",
        "            plot_loss_total = 0\n",
        "\n",
        "    showPlot(plot_losses)"
      ]
    },
    {
      "cell_type": "code",
      "execution_count": null,
      "metadata": {
        "id": "AlEtW0_HSPr7",
        "colab": {
          "base_uri": "https://localhost:8080/",
          "height": 866
        },
        "outputId": "69f0823f-9ee4-4ff0-9e9b-6d1f5dc3276f"
      },
      "outputs": [
        {
          "output_type": "stream",
          "name": "stdout",
          "text": [
            "0m 17s (- 4m 28s) (3000 6%) 0.6678\n",
            "0m 29s (- 3m 36s) (6000 12%) 0.5787\n",
            "0m 42s (- 3m 14s) (9000 18%) 0.5266\n",
            "0m 55s (- 2m 56s) (12000 24%) 0.4663\n",
            "1m 8s (- 2m 38s) (15000 30%) 0.4117\n",
            "1m 20s (- 2m 23s) (18000 36%) 0.3537\n",
            "1m 32s (- 2m 8s) (21000 42%) 0.3047\n",
            "1m 45s (- 1m 54s) (24000 48%) 0.2577\n",
            "1m 58s (- 1m 41s) (27000 54%) 0.2170\n",
            "2m 11s (- 1m 27s) (30000 60%) 0.1813\n",
            "2m 24s (- 1m 14s) (33000 66%) 0.1457\n",
            "2m 36s (- 1m 0s) (36000 72%) 0.1191\n",
            "2m 48s (- 0m 47s) (39000 78%) 0.0961\n",
            "3m 1s (- 0m 34s) (42000 84%) 0.0756\n",
            "3m 13s (- 0m 21s) (45000 90%) 0.0602\n",
            "3m 26s (- 0m 8s) (48000 96%) 0.0498\n"
          ]
        },
        {
          "output_type": "display_data",
          "data": {
            "text/plain": [
              "<Figure size 1200x800 with 0 Axes>"
            ]
          },
          "metadata": {}
        },
        {
          "output_type": "display_data",
          "data": {
            "text/plain": [
              "<Figure size 1200x800 with 1 Axes>"
            ],
            "image/png": "[encoded data removed]"
          },
          "metadata": {}
        }
      ],
      "source": [
        "hidden_size = 256\n",
        "encoder1 = EncoderRNN(input_lang.n_words, hidden_size).to(device)\n",
        "attn_decoder1 = AttnDecoderRNN(hidden_size, output_lang.n_words, dropout_p=0.1).to(device)\n",
        "\n",
        "trainIters(encoder1, attn_decoder1, 50000, print_every=3000)"
      ]
    },
    {
      "cell_type": "code",
      "execution_count": null,
      "metadata": {
        "id": "8j2Qa3yfSPr8"
      },
      "outputs": [],
      "source": [
        "def evaluate(encoder, decoder, sentence, max_length=MAX_LENGTH):\n",
        "    with torch.no_grad():\n",
        "        input_tensor = tensorFromSentence(input_lang, sentence)\n",
        "        encoder_hidden = encoder.initHidden()\n",
        "\n",
        "        encoder_outputs, encoder_hidden = encoder(input_tensor, encoder_hidden)\n",
        "\n",
        "        decoder_input = torch.tensor([[SOS_token]], device=device)  # SOS\n",
        "\n",
        "        decoder_hidden = encoder_hidden\n",
        "\n",
        "        decoded_words = []\n",
        "        decoder_attentions = []\n",
        "\n",
        "        for di in range(max_length):\n",
        "            decoder_output, decoder_hidden, decoder_attention = decoder(\n",
        "                decoder_input, decoder_hidden, encoder_outputs)\n",
        "            decoder_attentions.append(decoder_attention.squeeze(0).data)\n",
        "            topv, topi = decoder_output.data.topk(1)\n",
        "            if topi.squeeze().item() == EOS_token:\n",
        "                decoded_words.append('<EOS>')\n",
        "                break\n",
        "            else:\n",
        "                decoded_words.append(output_lang.index2word[topi.squeeze().item()])\n",
        "            decoder_input = topi.detach().squeeze(1)\n",
        "\n",
        "        return decoded_words, torch.cat(decoder_attentions)"
      ]
    },
    {
      "cell_type": "code",
      "execution_count": null,
      "metadata": {
        "id": "mpzsCmMlSPr8"
      },
      "outputs": [],
      "source": [
        "def evaluateRandomly(encoder, decoder, n=10):\n",
        "    for i in range(n):\n",
        "        pair = random.choice(pairs)\n",
        "        print('Source:', pair[0])\n",
        "        print('Reference:', pair[1])\n",
        "        output_words, attentions = evaluate(encoder, decoder, pair[0])\n",
        "        output_sentence = ' '.join(output_words[:-1])\n",
        "        print('Model:', output_sentence)\n",
        "        print('')"
      ]
    },
    {
      "cell_type": "code",
      "execution_count": null,
      "metadata": {
        "id": "itJJc9flSPr8",
        "colab": {
          "base_uri": "https://localhost:8080/"
        },
        "outputId": "f14effc8-2b6a-4f2c-fb10-bdaaa4a1fc02"
      },
      "outputs": [
        {
          "output_type": "stream",
          "name": "stdout",
          "text": [
            "Source: what horrible weather !\n",
            "Reference: quin temps tan dolent !\n",
            "Model: quin temps tan dolent !\n",
            "\n",
            "Source: i eat a boiled egg for breakfast every day .\n",
            "Reference: cada dia em menjo un ou dur per esmorzar .\n",
            "Model: cada dia em menjo un ou dur per esmorzar .\n",
            "\n",
            "Source: my apartment is on the fourth floor .\n",
            "Reference: el meu apartament esta al quart pis .\n",
            "Model: el meu apartament esta al quart pis .\n",
            "\n",
            "Source: you look good .\n",
            "Reference: fas bon aspecte .\n",
            "Model: fas bon aspecte .\n",
            "\n",
            "Source: i wish i could buy that guitar .\n",
            "Reference: m agradaria poder comprar eixa guitarra .\n",
            "Model: com voldria poder comprar aquesta guitarra .\n",
            "\n",
            "Source: you look good .\n",
            "Reference: fas bon aspecte .\n",
            "Model: fas bon aspecte .\n",
            "\n",
            "Source: i always get nervous in her presence .\n",
            "Reference: la seva presencia em posa sempre nervios .\n",
            "Model: la seva presencia em posa sempre nervios .\n",
            "\n",
            "Source: that bottle is full .\n",
            "Reference: aquella ampolla es plena .\n",
            "Model: aquella ampolla es plena .\n",
            "\n",
            "Source: i m sure of winning the championship .\n",
            "Reference: estic segur de guanyar el campionat .\n",
            "Model: estic segur de guanyar el campionat .\n",
            "\n",
            "Source: your opinion is irrelevant .\n",
            "Reference: la teua opinio es irrellevant .\n",
            "Model: la teua opinio es irrellevant .\n",
            "\n"
          ]
        }
      ],
      "source": [
        "evaluateRandomly(encoder1, attn_decoder1)"
      ]
    },
    {
      "cell_type": "code",
      "execution_count": null,
      "metadata": {
        "id": "F2tmrIcOSPr8",
        "colab": {
          "base_uri": "https://localhost:8080/",
          "height": 1000
        },
        "outputId": "d33a4661-e2fc-4011-c06f-d750746ea42e"
      },
      "outputs": [
        {
          "output_type": "stream",
          "name": "stdout",
          "text": [
            "input = your son is a genius .\n",
            "output = el vostre fill es un geni . <EOS>\n"
          ]
        },
        {
          "output_type": "display_data",
          "data": {
            "text/plain": [
              "<Figure size 1200x800 with 2 Axes>"
            ],
            "image/png": "[encoded data removed]"
          },
          "metadata": {}
        },
        {
          "output_type": "stream",
          "name": "stdout",
          "text": [
            "input = i can t remember which is my racket .\n",
            "output = no recorde quina es la meua raqueta . <EOS>\n"
          ]
        },
        {
          "output_type": "display_data",
          "data": {
            "text/plain": [
              "<Figure size 1200x800 with 2 Axes>"
            ],
            "image/png": "[encoded data removed]"
          },
          "metadata": {}
        },
        {
          "output_type": "stream",
          "name": "stdout",
          "text": [
            "input = please circle the right answer .\n",
            "output = encercleu la resposta correcta sisplau . <EOS>\n"
          ]
        },
        {
          "output_type": "display_data",
          "data": {
            "text/plain": [
              "<Figure size 1200x800 with 2 Axes>"
            ],
            "image/png": "[encoded data removed]"
          },
          "metadata": {}
        },
        {
          "output_type": "stream",
          "name": "stdout",
          "text": [
            "input = i d like to reserve a table for two .\n",
            "output = m agradaria reservar una taula per a dos . <EOS>\n"
          ]
        },
        {
          "output_type": "display_data",
          "data": {
            "text/plain": [
              "<Figure size 1200x800 with 2 Axes>"
            ],
            "image/png": "[encoded data removed]"
          },
          "metadata": {}
        }
      ],
      "source": [
        "def showAttention(input_sentence, output_words, attentions):\n",
        "    import pandas as pd\n",
        "    # Set up figure with colorbar\n",
        "    fig = plt.figure()\n",
        "    ax = fig.add_subplot(111)\n",
        "    #cax = ax.matshow(attentions.numpy(), cmap='Blues')\n",
        "    #fig.colorbar(cax)\n",
        "    sns.set(rc={'figure.figsize':(12, 8)})\n",
        "    input_sentence_list = input_sentence.split(' ') + ['<EOS>']\n",
        "\n",
        "    df = pd.DataFrame(attentions, columns = input_sentence_list, index = output_words)\n",
        "    ax = sns.heatmap(\n",
        "        df.astype(float),\n",
        "        linewidth=0.5,\n",
        "        cmap=\"Blues\",\n",
        "        square=True)\n",
        "\n",
        "\n",
        "    plt.show()\n",
        "\n",
        "\n",
        "def evaluateAndShowAttention(input_sentence):\n",
        "    output_words, attentions = evaluate(\n",
        "        encoder1, attn_decoder1, input_sentence)\n",
        "    print('input =', input_sentence)\n",
        "    print('output =', ' '.join(output_words))\n",
        "    showAttention(input_sentence, output_words, attentions.detach().cpu())\n",
        "\n",
        "\n",
        "evaluateAndShowAttention(\"your son is a genius .\")\n",
        "\n",
        "evaluateAndShowAttention(\"i can t remember which is my racket .\")\n",
        "\n",
        "evaluateAndShowAttention(\"please circle the right answer .\")\n",
        "\n",
        "evaluateAndShowAttention(\"i d like to reserve a table for two .\")\n"
      ]
    },
    {
      "cell_type": "code",
      "execution_count": null,
      "metadata": {
        "id": "JCWV6hNGSPr9"
      },
      "outputs": [],
      "source": []
    }
  ],
  "metadata": {
    "accelerator": "GPU",
    "gpuClass": "standard",
    "kernelspec": {
      "display_name": "Python 3",
      "name": "python3"
    },
    "language_info": {
      "name": "python"
    },
    "colab": {
      "provenance": [],
      "include_colab_link": true
    }
  },
  "nbformat": 4,
  "nbformat_minor": 0
}