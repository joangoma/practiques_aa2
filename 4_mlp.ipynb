{
  "cells": [
    {
      "cell_type": "markdown",
      "metadata": {
        "id": "view-in-github",
        "colab_type": "text"
      },
      "source": [
        "<a href=\"https://colab.research.google.com/github/joangoma/practiques_aa2/blob/main/4_mlp.ipynb\" target=\"_parent\"><img src=\"https://colab.research.google.com/assets/colab-badge.svg\" alt=\"Open In Colab\"/></a>"
      ]
    },
    {
      "cell_type": "markdown",
      "metadata": {
        "id": "Uv387FmMii5Z"
      },
      "source": [
        "# Image Classification with a Multi-Layer Perceptron\n",
        "\n",
        "Notebook created by [Santi Pascual](https://github.com/santi-pdp) for the [UPC School](https://www.talent.upc.edu/ing/estudis/formacio/curs/310400/postgrau-artificial-intelligence-deep-learning/) (2019) and updated by [Daniel Fojo](https://www.linkedin.com/in/daniel-fojo/), [Xavier Giro](https://imatge.upc.edu/web/people/xavier-giro), [Pol Caselles](https://www.linkedin.com/in/pcaselles/), [Gerard I. Gállego](https://www.linkedin.com/in/gerard-gallego/) and [Juan José Nieto](https://www.linkedin.com/in/juan-jose-nieto-salas/).\n",
        "\n",
        "Based on an original version in Keras created by [Miriam Bellver](https://imatge.upc.edu/web/people/miriam-bellver) for the [Barcelona Technology School](https://barcelonatechnologyschool.com/master/master-in-big-data-solutions/) (BTS) in 2018."
      ]
    },
    {
      "cell_type": "markdown",
      "metadata": {
        "id": "yNpCbxRWsgM5"
      },
      "source": [
        "The problem we are trying to solve here is to classify grayscale images of handwritten digits (28 pixels by 28 pixels), into their 10 categories (0 to 9). The dataset we will use is the MNIST dataset, a classic dataset in the machine learning community, which has been around for almost as long as the field itself and has been very intensively studied. It's a set of 60,000 training images, plus 10,000 test images, assembled by the National Institute of Standards and Technology (the NIST in MNIST) in the 1980s. You can think of \"solving\" MNIST as the \"Hello World\" of deep learning -- it's what you do to verify that your algorithms are working as expected. As you become a machine learning practitioner, you will see MNIST come up over and over again, in scientific papers, blog posts, and so on.\n"
      ]
    },
    {
      "cell_type": "code",
      "execution_count": null,
      "metadata": {
        "id": "7VZbplfHu3YZ"
      },
      "outputs": [],
      "source": [
        "import random\n",
        "\n",
        "import torch\n",
        "import torch.nn as nn\n",
        "import torch.nn.functional as F\n",
        "\n",
        "import numpy as np\n",
        "import matplotlib.pyplot as plt\n",
        "\n",
        "from typing import Tuple\n",
        "from torchvision import datasets, transforms\n",
        "from torchvision.utils import make_grid"
      ]
    },
    {
      "cell_type": "markdown",
      "metadata": {
        "id": "5mz2cA_-ii5c",
        "pycharm": {
          "name": "#%% md\n"
        }
      },
      "source": [
        "To ensure reproducibility of the experiments, we can set the seed to a fixed number."
      ]
    },
    {
      "cell_type": "code",
      "execution_count": null,
      "metadata": {
        "id": "z2MQJASIu3Yc"
      },
      "outputs": [],
      "source": [
        "seed = 123\n",
        "np.random.seed(seed)\n",
        "_ = torch.manual_seed(seed)\n",
        "_ = torch.cuda.manual_seed(seed)"
      ]
    },
    {
      "cell_type": "code",
      "execution_count": null,
      "metadata": {
        "id": "B6tA39GCu3Yc"
      },
      "outputs": [],
      "source": [
        "# we select to work on GPU if it is available in the machine, otherwise\n",
        "# will run on CPU\n",
        "device = torch.device('cuda') if torch.cuda.is_available() else torch.device('cpu')\n",
        "\n",
        "# whenever we send something to the selected device (X.to(device)) we already use\n",
        "# either CPU or CUDA (GPU). Importantly...\n",
        "# The .to() operation is in-place for nn.Module's, so network.to(device) suffices\n",
        "# The .to() operation is NOT in.place for tensors, so we must assign the result\n",
        "# to some tensor, like: X = X.to(device)\n"
      ]
    },
    {
      "cell_type": "markdown",
      "metadata": {
        "id": "UTDySqtoii5f"
      },
      "source": [
        "### Defining the Hyper-parameters\n",
        "\n",
        "We now define the hyperparameters that are going to be used throughout the notebook\n",
        "to define the network, the data `batch_size`, the training `learning_rate`, and others.\n"
      ]
    },
    {
      "cell_type": "code",
      "execution_count": null,
      "metadata": {
        "id": "MJ3aKhBqu3Yd"
      },
      "outputs": [],
      "source": [
        "# Let's define some hyper-parameters\n",
        "hparams = {\n",
        "    'batch_size':64,\n",
        "    'num_epochs':10,\n",
        "    'test_batch_size':64,\n",
        "    'hidden_size':128,\n",
        "    'num_classes':10,\n",
        "    'num_inputs':784,\n",
        "    'learning_rate':1e-4,\n",
        "    'log_interval':100,\n",
        "}"
      ]
    },
    {
      "cell_type": "markdown",
      "metadata": {
        "id": "ZQPfwo_hl99c"
      },
      "source": [
        "### Defining the PyTorch Dataset and the DataLoader\n",
        "\n",
        "The [PyTorch Dataset](https://pytorch.org/docs/stable/data.html#torch.utils.data.Dataset) is an inheritable `class` that helps us defining what source of data do we have (image, audio, text, ...) and how to load it (overriding the `__getitem__` function). The MNIST dataset is easible accessible from it.\n",
        "\n",
        "The [PyTorch DataLoader](https://pytorch.org/docs/stable/data.html#torch.utils.data.DataLoader) is an iterator that provides batching and shuffling capabilities, among others."
      ]
    },
    {
      "cell_type": "markdown",
      "metadata": {
        "id": "AygO-aXbii5g"
      },
      "source": [
        "Each of the datasets, `mnist_trainset` and `mnist_testset`, is composed by images and labels. The model will be trained with the former and evaluated with the latter. Our images are encoded as Numpy arrays, and the labels are simply an array of digits, ranging from 0 to 9. There is a one-to-one correspondence between the images and the labels."
      ]
    },
    {
      "cell_type": "code",
      "execution_count": null,
      "metadata": {
        "id": "wZ_eZhPxu3Yf"
      },
      "outputs": [],
      "source": [
        "transforms = transforms.Compose([\n",
        "        transforms.ToTensor(),\n",
        "        transforms.Normalize((0.1307,), (0.3081,))\n",
        "    ])\n",
        "\n",
        "\n",
        "# Dataset initializations\n",
        "\n",
        "mnist_trainset = datasets.MNIST(\n",
        "    root='data',\n",
        "    train=True,\n",
        "    download=True,\n",
        "    transform=transforms)\n",
        "\n",
        "mnist_testset = datasets.MNIST(\n",
        "    root='data',\n",
        "    train=False,\n",
        "    download=True,\n",
        "    transform=transforms\n",
        ")\n",
        "\n",
        "# Dataloders initialization\n",
        "\n",
        "train_loader = torch.utils.data.DataLoader(\n",
        "    dataset=mnist_trainset,\n",
        "    batch_size=hparams['batch_size'],\n",
        "    shuffle=True,\n",
        "    drop_last=True,\n",
        ")\n",
        "\n",
        "test_loader = torch.utils.data.DataLoader(\n",
        "    dataset=mnist_testset,\n",
        "    batch_size=hparams['test_batch_size'],\n",
        "    shuffle=False,\n",
        "    drop_last=True,\n",
        ")"
      ]
    },
    {
      "cell_type": "code",
      "execution_count": null,
      "metadata": {
        "id": "EScFJaqtu3Yf",
        "colab": {
          "base_uri": "https://localhost:8080/"
        },
        "outputId": "2d4d7d29-fe43-4fea-f8dd-39dee38540c6"
      },
      "outputs": [
        {
          "output_type": "stream",
          "name": "stdout",
          "text": [
            "Img shape:  torch.Size([1, 28, 28])\n",
            "Label:  5\n",
            "Batch Img shape:  torch.Size([64, 1, 28, 28])\n",
            "Batch Label shape:  torch.Size([64])\n",
            "The Batched tensors return a collection of 64 grayscale images (1 channel, 28 height pixels, 28 width pixels)\n",
            "In the case of the labels, we obtain 64 batched integers, one per image\n"
          ]
        }
      ],
      "source": [
        "# We can retrieve a sample from the dataset by simply indexing it\n",
        "img, label = mnist_trainset[0]\n",
        "print('Img shape: ', img.shape)\n",
        "print('Label: ', label)\n",
        "\n",
        "# Similarly, we can sample a BATCH from the dataloader by running over its iterator\n",
        "iter_ = iter(train_loader)\n",
        "bimg, blabel = next(iter_)\n",
        "print('Batch Img shape: ', bimg.shape)\n",
        "print('Batch Label shape: ', blabel.shape)\n",
        "print(f'The Batched tensors return a collection of {bimg.shape[0]} grayscale images ({bimg.shape[1]} channel, {bimg.shape[2]} height pixels, {bimg.shape[3]} width pixels)')\n",
        "print(f'In the case of the labels, we obtain {blabel.shape[0]} batched integers, one per image')"
      ]
    },
    {
      "cell_type": "markdown",
      "metadata": {
        "id": "2tUAIG4Vnxxt"
      },
      "source": [
        "And now let's look at the kind of images we are dealing with:\n"
      ]
    },
    {
      "cell_type": "code",
      "execution_count": null,
      "metadata": {
        "id": "5bsWzhF8u3Yj",
        "colab": {
          "base_uri": "https://localhost:8080/",
          "height": 715
        },
        "outputId": "40d8e92d-9553-42bc-d4eb-1afcc8d54618"
      },
      "outputs": [
        {
          "output_type": "stream",
          "name": "stderr",
          "text": [
            "WARNING:matplotlib.image:Clipping input data to the valid range for imshow with RGB data ([0..1] for floats or [0..255] for integers).\n"
          ]
        },
        {
          "output_type": "execute_result",
          "data": {
            "text/plain": [
              "<matplotlib.image.AxesImage at 0x7cc541daace0>"
            ]
          },
          "metadata": {},
          "execution_count": 26
        },
        {
          "output_type": "display_data",
          "data": {
            "text/plain": [
              "<Figure size 800x800 with 1 Axes>"
            ],
            "image/png": "[encoded data removed]"
          },
          "metadata": {}
        }
      ],
      "source": [
        "# make_grid is a function from the torchvision package that transforms a batch\n",
        "# of images to a grid of images\n",
        "img_grid = make_grid(bimg)\n",
        "\n",
        "plt.figure(figsize = (8, 8))\n",
        "plt.imshow(img_grid.permute(1, 2, 0), interpolation='nearest')"
      ]
    },
    {
      "cell_type": "markdown",
      "metadata": {
        "id": "WWHtTIa1oHfX"
      },
      "source": [
        "### BAAAAM, we've got some numbers there"
      ]
    },
    {
      "cell_type": "markdown",
      "metadata": {
        "id": "MRPemBuAIXfc"
      },
      "source": [
        "# Training a Multi-Layer Perceptron (MLP)\n",
        "\n",
        "Now that we have the dataset loaded and prepared, let's get some deep stuff spinning.\n",
        "\n",
        "Our workflow will be as follow: first we will train our neural network with the training data, loaded from the constructed `train_loader`. The network will then learn to associate images and labels. Finally, we will ask the network to produce predictions for `test_loader` images, and we will verify if these predictions match the labels from `test_loader`."
      ]
    },
    {
      "cell_type": "markdown",
      "metadata": {
        "id": "VCuGAZaZqDGe"
      },
      "source": [
        "### Exercise 1\n",
        "\n",
        "For the time being, we will use a very simple network. It consists of a sequence of two `nn.Linear` layers, which are densely-connected (also called \"fully-connected\") neural layers. The last layer is a 10-way `nn.LogSoftmax` layer, which means it will return an array of 10 log-probability scores. Each score will be the probability that the current digit image belongs to one of our 10 digit classes. Please fill in the network definition below."
      ]
    },
    {
      "cell_type": "code",
      "execution_count": null,
      "metadata": {
        "id": "3_dIbsCSu3Yl",
        "colab": {
          "base_uri": "https://localhost:8080/"
        },
        "outputId": "f32585a7-b040-4648-c574-6a1d5f549ebf"
      },
      "outputs": [
        {
          "output_type": "execute_result",
          "data": {
            "text/plain": [
              "Sequential(\n",
              "  (0): Linear(in_features=784, out_features=128, bias=True)\n",
              "  (1): ReLU()\n",
              "  (2): Linear(in_features=128, out_features=10, bias=True)\n",
              "  (3): LogSoftmax(dim=1)\n",
              ")"
            ]
          },
          "metadata": {},
          "execution_count": 27
        }
      ],
      "source": [
        "# TODO: Define a variable 'network' by instantiating a PyTorch sequential model\n",
        "# https://pytorch.org/docs/stable/nn.html#torch.nn.Sequential\n",
        "# Add a (1) nn.Linear hidden layer with 128 neurons, (2) a nn.ReLU,\n",
        "# (3) the output nn.Linear and (4) the output nn.LogSoftmax\n",
        "# NOTE: Consider the 'num_inputs', 'hidden_size', and 'num_classes' parameters\n",
        "# defined above as hyper-params\n",
        "\n",
        "\n",
        "network = nn.Sequential(\n",
        "    nn.Linear(hparams['num_inputs'], hparams['hidden_size']),  # Hidden layer with 128 neurons\n",
        "    nn.ReLU(),                           # ReLU activation function\n",
        "    nn.Linear(hparams['hidden_size'], hparams['num_classes']), # Output layer\n",
        "    nn.LogSoftmax(dim=1)                 # LogSoftmax for output probabilities\n",
        ")\n",
        "\n",
        "network.to(device)"
      ]
    },
    {
      "cell_type": "markdown",
      "metadata": {
        "id": "OZTxMsJFplbr"
      },
      "source": [
        "Now we can check which is the architecture of the network, and the number of parameters of each layer with the following helper function:"
      ]
    },
    {
      "cell_type": "code",
      "execution_count": null,
      "metadata": {
        "id": "shtFBhWgu3Yl",
        "colab": {
          "base_uri": "https://localhost:8080/"
        },
        "outputId": "462fd262-ca1f-40d9-99ef-1b373414e029"
      },
      "outputs": [
        {
          "output_type": "stream",
          "name": "stdout",
          "text": [
            "Sequential(\n",
            "  (0): Linear(in_features=784, out_features=128, bias=True)\n",
            "  (1): ReLU()\n",
            "  (2): Linear(in_features=128, out_features=10, bias=True)\n",
            "  (3): LogSoftmax(dim=1)\n",
            ")\n",
            "Num params:  101770\n"
          ]
        }
      ],
      "source": [
        "def get_nn_nparams(net: torch.nn.Module) -> int:\n",
        "  \"\"\"\n",
        "  Function that returns all parameters regardless of the require_grad value.\n",
        "  https://discuss.pytorch.org/t/how-do-i-check-the-number-of-parameters-of-a-model/4325/6\n",
        "  \"\"\"\n",
        "  return sum([torch.numel(p) for p in list(net.parameters())])\n",
        "\n",
        "\n",
        "print(network)\n",
        "print('Num params: ', get_nn_nparams(network))"
      ]
    },
    {
      "cell_type": "markdown",
      "metadata": {
        "id": "FWbAtS9NqqJV"
      },
      "source": [
        "### Exercise 2\n",
        "\n",
        "To make our network ready for training, we need to pick three more things:\n",
        "\n",
        "*    **A loss function**: this is how the network will be able to measure how good a job works on its training data, and thus how it will be able to steer itself in the right direction. **Check the [PyTorch documentation](https://pytorch.org/docs/stable/generated/torch.nn.functional.nll_loss.html) for the negative log likelihood loss for multi-class classification from the functional API.**\n",
        "*   **An optimizer**: this is the mechanism through which the network will update itself based on the data it sees and its loss function. **Check the [PyTorch documentation](https://pytorch.org/docs/stable/optim.html?highlight=rmsprop#torch.optim.RMSprop) and find the RMSprop optimizer to use it.**\n",
        "*   **Metrics to monitor during training and testing**. Here we will only care about accuracy (the fraction of the images that were correctly classified). **Define the accuracy function to return, for a batch, the count of correct predictions (hence same prediction as the label).**\n",
        "\n",
        "\n"
      ]
    },
    {
      "cell_type": "code",
      "execution_count": null,
      "metadata": {
        "id": "Vvl48DD1u3Ym"
      },
      "outputs": [],
      "source": [
        "# Import a functional API for the loss function (use this one !!)\n",
        "# https://pytorch.org/docs/stable/nn.functional.html#nll-loss\n",
        "# TODO: Specify the loss function. Don't instantiate it, just assign it to 'criterion'\n",
        "criterion = F.nll_loss\n",
        "\n",
        "\n",
        "# https://pytorch.org/docs/stable/optim.html#torch.optim.RMSprop\n",
        "# TODO: Create the optimizer\n",
        "optimizer = torch.optim.RMSprop(network.parameters(), lr=hparams['learning_rate'])\n",
        "\n",
        "def compute_accuracy(predicted_batch: torch.Tensor, label_batch: torch.Tensor) -> int:\n",
        "    \"\"\"\n",
        "    Define the Accuracy metric in the function below by:\n",
        "      (1) obtain the maximum for each predicted element in the batch to get the\n",
        "        class (it is the maximum index of the num_classes array per batch sample)\n",
        "        (look at torch.argmax in the PyTorch documentation)\n",
        "      (2) compare the predicted class index with the index in its corresponding\n",
        "        neighbor within label_batch\n",
        "      (3) sum up the number of affirmative comparisons and return the summation\n",
        "\n",
        "    Parameters:\n",
        "    -----------\n",
        "    predicted_batch: torch.Tensor shape: [BATCH_SIZE, N_CLASSES]\n",
        "        Batch of predictions\n",
        "    label_batch: torch.Tensor shape: [BATCH_SIZE, 1]\n",
        "        Batch of labels / ground truths.\n",
        "    \"\"\"\n",
        "    pred = predicted_batch.argmax(dim=1, keepdim=True) # get the index of the max log-probability\n",
        "    acum = pred.eq(label_batch.view_as(pred)).sum().item()\n",
        "    return acum\n"
      ]
    },
    {
      "cell_type": "markdown",
      "metadata": {
        "id": "PcKupxKKBVR2"
      },
      "source": [
        "### Exercise 3\n",
        "Now, we will define the training and testing functions. In each of them we will iterate over the corresponding data_loader.\n",
        "\n",
        "Since the input of the network requires a input vector of shape [BATCH_SIZE, H*W], we must rearrange the dimensions of the images. We will use `reshape()` to flatten the 2D images into 1D vectors."
      ]
    },
    {
      "cell_type": "code",
      "execution_count": null,
      "metadata": {
        "id": "iGbAnqO7u3Ym"
      },
      "outputs": [],
      "source": [
        "def train_epoch(\n",
        "        train_loader: torch.utils.data.DataLoader,\n",
        "        network: torch.nn.Module,\n",
        "        optimizer: torch.optim,\n",
        "        criterion: torch.nn.functional,\n",
        "        log_interval: int,\n",
        "        ) -> Tuple[float, float]:\n",
        "\n",
        "    # Activate the train=True flag inside the model\n",
        "    network.train()\n",
        "\n",
        "    avg_loss = None\n",
        "    acc = 0.\n",
        "    avg_weight = 0.1\n",
        "    for batch_idx, (data, target) in enumerate(train_loader):\n",
        "\n",
        "        # Move input data and labels to the device\n",
        "        data, target = data.to(device), target.to(device)\n",
        "\n",
        "        # Set network gradients to 0.\n",
        "        optimizer.zero_grad()\n",
        "\n",
        "        # TODO: rearrange the data dimension\n",
        "        data = data.reshape(data.shape[0], -1)\n",
        "\n",
        "        # Forward batch of images through the network\n",
        "        output = network(data)\n",
        "\n",
        "        # Compute loss\n",
        "        loss = criterion(output, target)\n",
        "\n",
        "        # Compute backpropagation\n",
        "        loss.backward()\n",
        "\n",
        "        # Update parameters of the network\n",
        "        optimizer.step()\n",
        "\n",
        "        # Compute metrics\n",
        "        acc += compute_accuracy(output, target)\n",
        "        if avg_loss:\n",
        "            avg_loss = avg_weight * loss.item() + (1 - avg_weight) * avg_loss\n",
        "        else:\n",
        "            avg_loss = loss.item()\n",
        "\n",
        "        if batch_idx % log_interval == 0:\n",
        "            print('Train Epoch: {} [{}/{} ({:.0f}%)]\\tLoss: {:.6f}'.format(\n",
        "                epoch, batch_idx * len(data), len(train_loader.dataset),\n",
        "                100. * batch_idx / len(train_loader), loss.item()))\n",
        "    avg_acc = 100. * acc / len(train_loader.dataset)\n",
        "\n",
        "    return avg_loss, avg_acc"
      ]
    },
    {
      "cell_type": "code",
      "execution_count": null,
      "metadata": {
        "id": "Gq_UYb38u3Yn"
      },
      "outputs": [],
      "source": [
        "@torch.no_grad() # decorator: avoid computing gradients\n",
        "def test_epoch(\n",
        "        test_loader: torch.utils.data.DataLoader,\n",
        "        network: torch.nn.Module,\n",
        "        ) -> Tuple[float, float]:\n",
        "\n",
        "    # Dectivate the train=True flag inside the model\n",
        "    network.eval()\n",
        "\n",
        "    test_loss = 0\n",
        "    acc = 0\n",
        "    for data, target in test_loader:\n",
        "        data, target = data.to(device), target.to(device)\n",
        "\n",
        "        # TODO\n",
        "        data = data.reshape(data.shape[0], -1)\n",
        "\n",
        "        output = network(data)\n",
        "\n",
        "        # Apply the loss criterion and accumulate the loss\n",
        "        test_loss += criterion(output, target, reduction='sum').item()  # sum up batch loss\n",
        "\n",
        "        # WARNING: If you are using older Torch versions, the previous call may need to be replaced by\n",
        "        # test_loss += criterion(output, target, size_average=False).item()\n",
        "\n",
        "        # compute number of correct predictions in the batch\n",
        "        acc += compute_accuracy(output, target)\n",
        "\n",
        "    test_loss /= len(test_loader.dataset)\n",
        "    # Average accuracy across all correct predictions batches now\n",
        "    test_acc = 100. * acc / len(test_loader.dataset)\n",
        "    print('\\nTest set: Average loss: {:.4f}, Accuracy: {}/{} ({:.0f}%)\\n'.format(\n",
        "        test_loss, acc, len(test_loader.dataset), test_acc,\n",
        "        ))\n",
        "    return test_loss, test_acc"
      ]
    },
    {
      "cell_type": "markdown",
      "metadata": {
        "id": "sFFkPlHLIKmq"
      },
      "source": [
        "### Exercise 4\n",
        "\n",
        "Now that the `network` and the training and test functions are good to go epoch by epoch, build the loop to make as many as `hparams['num_epochs']` epochs by alternating the train and test phases. Check what these functions return and store the resulting values in lists that will be used to plot the results in the later cell."
      ]
    },
    {
      "cell_type": "code",
      "execution_count": null,
      "metadata": {
        "id": "CY08Xwm5u3Yn",
        "colab": {
          "base_uri": "https://localhost:8080/"
        },
        "outputId": "2f03462f-81a4-485c-9a0b-7ba7845fa156"
      },
      "outputs": [
        {
          "output_type": "stream",
          "name": "stdout",
          "text": [
            "Train Epoch: 0 [0/60000 (0%)]\tLoss: 2.283990\n",
            "Train Epoch: 0 [6400/60000 (11%)]\tLoss: 0.677575\n",
            "Train Epoch: 0 [12800/60000 (21%)]\tLoss: 0.482374\n",
            "Train Epoch: 0 [19200/60000 (32%)]\tLoss: 0.385781\n",
            "Train Epoch: 0 [25600/60000 (43%)]\tLoss: 0.277757\n",
            "Train Epoch: 0 [32000/60000 (53%)]\tLoss: 0.318419\n",
            "Train Epoch: 0 [38400/60000 (64%)]\tLoss: 0.244459\n",
            "Train Epoch: 0 [44800/60000 (75%)]\tLoss: 0.428786\n",
            "Train Epoch: 0 [51200/60000 (85%)]\tLoss: 0.200441\n",
            "Train Epoch: 0 [57600/60000 (96%)]\tLoss: 0.357883\n",
            "\n",
            "Test set: Average loss: 0.2849, Accuracy: 9178/10000 (92%)\n",
            "\n",
            "Train Epoch: 1 [0/60000 (0%)]\tLoss: 0.238070\n",
            "Train Epoch: 1 [6400/60000 (11%)]\tLoss: 0.193633\n",
            "Train Epoch: 1 [12800/60000 (21%)]\tLoss: 0.228735\n",
            "Train Epoch: 1 [19200/60000 (32%)]\tLoss: 0.238192\n",
            "Train Epoch: 1 [25600/60000 (43%)]\tLoss: 0.209483\n",
            "Train Epoch: 1 [32000/60000 (53%)]\tLoss: 0.232463\n",
            "Train Epoch: 1 [38400/60000 (64%)]\tLoss: 0.227279\n",
            "Train Epoch: 1 [44800/60000 (75%)]\tLoss: 0.066894\n",
            "Train Epoch: 1 [51200/60000 (85%)]\tLoss: 0.152265\n",
            "Train Epoch: 1 [57600/60000 (96%)]\tLoss: 0.224933\n",
            "\n",
            "Test set: Average loss: 0.2330, Accuracy: 9308/10000 (93%)\n",
            "\n",
            "Train Epoch: 2 [0/60000 (0%)]\tLoss: 0.132498\n",
            "Train Epoch: 2 [6400/60000 (11%)]\tLoss: 0.266094\n",
            "Train Epoch: 2 [12800/60000 (21%)]\tLoss: 0.292943\n",
            "Train Epoch: 2 [19200/60000 (32%)]\tLoss: 0.182857\n",
            "Train Epoch: 2 [25600/60000 (43%)]\tLoss: 0.135974\n",
            "Train Epoch: 2 [32000/60000 (53%)]\tLoss: 0.104407\n",
            "Train Epoch: 2 [38400/60000 (64%)]\tLoss: 0.252741\n",
            "Train Epoch: 2 [44800/60000 (75%)]\tLoss: 0.185446\n",
            "Train Epoch: 2 [51200/60000 (85%)]\tLoss: 0.204680\n",
            "Train Epoch: 2 [57600/60000 (96%)]\tLoss: 0.154509\n",
            "\n",
            "Test set: Average loss: 0.1941, Accuracy: 9427/10000 (94%)\n",
            "\n",
            "Train Epoch: 3 [0/60000 (0%)]\tLoss: 0.232351\n",
            "Train Epoch: 3 [6400/60000 (11%)]\tLoss: 0.327561\n",
            "Train Epoch: 3 [12800/60000 (21%)]\tLoss: 0.117198\n",
            "Train Epoch: 3 [19200/60000 (32%)]\tLoss: 0.095406\n",
            "Train Epoch: 3 [25600/60000 (43%)]\tLoss: 0.171204\n",
            "Train Epoch: 3 [32000/60000 (53%)]\tLoss: 0.151122\n",
            "Train Epoch: 3 [38400/60000 (64%)]\tLoss: 0.211687\n",
            "Train Epoch: 3 [44800/60000 (75%)]\tLoss: 0.166410\n",
            "Train Epoch: 3 [51200/60000 (85%)]\tLoss: 0.218869\n",
            "Train Epoch: 3 [57600/60000 (96%)]\tLoss: 0.186371\n",
            "\n",
            "Test set: Average loss: 0.1696, Accuracy: 9495/10000 (95%)\n",
            "\n",
            "Train Epoch: 4 [0/60000 (0%)]\tLoss: 0.136432\n",
            "Train Epoch: 4 [6400/60000 (11%)]\tLoss: 0.102749\n",
            "Train Epoch: 4 [12800/60000 (21%)]\tLoss: 0.158565\n",
            "Train Epoch: 4 [19200/60000 (32%)]\tLoss: 0.252565\n",
            "Train Epoch: 4 [25600/60000 (43%)]\tLoss: 0.261760\n",
            "Train Epoch: 4 [32000/60000 (53%)]\tLoss: 0.131767\n",
            "Train Epoch: 4 [38400/60000 (64%)]\tLoss: 0.200193\n",
            "Train Epoch: 4 [44800/60000 (75%)]\tLoss: 0.294318\n",
            "Train Epoch: 4 [51200/60000 (85%)]\tLoss: 0.138035\n",
            "Train Epoch: 4 [57600/60000 (96%)]\tLoss: 0.132666\n",
            "\n",
            "Test set: Average loss: 0.1525, Accuracy: 9533/10000 (95%)\n",
            "\n",
            "Train Epoch: 5 [0/60000 (0%)]\tLoss: 0.254096\n",
            "Train Epoch: 5 [6400/60000 (11%)]\tLoss: 0.078329\n",
            "Train Epoch: 5 [12800/60000 (21%)]\tLoss: 0.197789\n",
            "Train Epoch: 5 [19200/60000 (32%)]\tLoss: 0.124597\n",
            "Train Epoch: 5 [25600/60000 (43%)]\tLoss: 0.093152\n",
            "Train Epoch: 5 [32000/60000 (53%)]\tLoss: 0.178234\n",
            "Train Epoch: 5 [38400/60000 (64%)]\tLoss: 0.145089\n",
            "Train Epoch: 5 [44800/60000 (75%)]\tLoss: 0.133662\n",
            "Train Epoch: 5 [51200/60000 (85%)]\tLoss: 0.109838\n",
            "Train Epoch: 5 [57600/60000 (96%)]\tLoss: 0.214904\n",
            "\n",
            "Test set: Average loss: 0.1385, Accuracy: 9577/10000 (96%)\n",
            "\n",
            "Train Epoch: 6 [0/60000 (0%)]\tLoss: 0.214818\n",
            "Train Epoch: 6 [6400/60000 (11%)]\tLoss: 0.127721\n",
            "Train Epoch: 6 [12800/60000 (21%)]\tLoss: 0.103974\n",
            "Train Epoch: 6 [19200/60000 (32%)]\tLoss: 0.192722\n",
            "Train Epoch: 6 [25600/60000 (43%)]\tLoss: 0.106134\n",
            "Train Epoch: 6 [32000/60000 (53%)]\tLoss: 0.234190\n",
            "Train Epoch: 6 [38400/60000 (64%)]\tLoss: 0.033300\n",
            "Train Epoch: 6 [44800/60000 (75%)]\tLoss: 0.057289\n",
            "Train Epoch: 6 [51200/60000 (85%)]\tLoss: 0.131984\n",
            "Train Epoch: 6 [57600/60000 (96%)]\tLoss: 0.032997\n",
            "\n",
            "Test set: Average loss: 0.1276, Accuracy: 9608/10000 (96%)\n",
            "\n",
            "Train Epoch: 7 [0/60000 (0%)]\tLoss: 0.094751\n",
            "Train Epoch: 7 [6400/60000 (11%)]\tLoss: 0.078815\n",
            "Train Epoch: 7 [12800/60000 (21%)]\tLoss: 0.092396\n",
            "Train Epoch: 7 [19200/60000 (32%)]\tLoss: 0.224691\n",
            "Train Epoch: 7 [25600/60000 (43%)]\tLoss: 0.127341\n",
            "Train Epoch: 7 [32000/60000 (53%)]\tLoss: 0.103531\n",
            "Train Epoch: 7 [38400/60000 (64%)]\tLoss: 0.054676\n",
            "Train Epoch: 7 [44800/60000 (75%)]\tLoss: 0.049232\n",
            "Train Epoch: 7 [51200/60000 (85%)]\tLoss: 0.065132\n",
            "Train Epoch: 7 [57600/60000 (96%)]\tLoss: 0.244686\n",
            "\n",
            "Test set: Average loss: 0.1169, Accuracy: 9637/10000 (96%)\n",
            "\n",
            "Train Epoch: 8 [0/60000 (0%)]\tLoss: 0.054626\n",
            "Train Epoch: 8 [6400/60000 (11%)]\tLoss: 0.092401\n",
            "Train Epoch: 8 [12800/60000 (21%)]\tLoss: 0.144912\n",
            "Train Epoch: 8 [19200/60000 (32%)]\tLoss: 0.203351\n",
            "Train Epoch: 8 [25600/60000 (43%)]\tLoss: 0.073602\n",
            "Train Epoch: 8 [32000/60000 (53%)]\tLoss: 0.159458\n",
            "Train Epoch: 8 [38400/60000 (64%)]\tLoss: 0.046671\n",
            "Train Epoch: 8 [44800/60000 (75%)]\tLoss: 0.082898\n",
            "Train Epoch: 8 [51200/60000 (85%)]\tLoss: 0.052773\n",
            "Train Epoch: 8 [57600/60000 (96%)]\tLoss: 0.145602\n",
            "\n",
            "Test set: Average loss: 0.1087, Accuracy: 9670/10000 (97%)\n",
            "\n",
            "Train Epoch: 9 [0/60000 (0%)]\tLoss: 0.092269\n",
            "Train Epoch: 9 [6400/60000 (11%)]\tLoss: 0.098188\n",
            "Train Epoch: 9 [12800/60000 (21%)]\tLoss: 0.123924\n",
            "Train Epoch: 9 [19200/60000 (32%)]\tLoss: 0.072159\n",
            "Train Epoch: 9 [25600/60000 (43%)]\tLoss: 0.214068\n",
            "Train Epoch: 9 [32000/60000 (53%)]\tLoss: 0.056694\n",
            "Train Epoch: 9 [38400/60000 (64%)]\tLoss: 0.071600\n",
            "Train Epoch: 9 [44800/60000 (75%)]\tLoss: 0.073061\n",
            "Train Epoch: 9 [51200/60000 (85%)]\tLoss: 0.119337\n",
            "Train Epoch: 9 [57600/60000 (96%)]\tLoss: 0.131213\n",
            "\n",
            "Test set: Average loss: 0.1037, Accuracy: 9669/10000 (97%)\n",
            "\n"
          ]
        }
      ],
      "source": [
        "# Init lists to save the evolution of the training & test losses/accuracy.\n",
        "train_losses = []\n",
        "test_losses = []\n",
        "train_accs = []\n",
        "test_accs = []\n",
        "\n",
        "# For each epoch\n",
        "for epoch in range(hparams['num_epochs']):\n",
        "\n",
        "    # Compute & save the average training loss for the current epoch\n",
        "    train_loss, train_acc = train_epoch(train_loader, network, optimizer, criterion, hparams[\"log_interval\"])\n",
        "    train_losses.append(train_loss)\n",
        "    train_accs.append(train_acc)\n",
        "\n",
        "    # TODO: Compute & save the average test loss & accuracy for the current epoch\n",
        "    # HELP: Review the functions previously defined to implement the train/test epochs\n",
        "    test_loss, test_accuracy = test_epoch(test_loader, network)\n",
        "\n",
        "    test_losses.append(test_loss)\n",
        "    test_accs.append(test_accuracy)"
      ]
    },
    {
      "cell_type": "code",
      "execution_count": null,
      "metadata": {
        "id": "BAgEwxD3u3Yn",
        "colab": {
          "base_uri": "https://localhost:8080/",
          "height": 713
        },
        "outputId": "958f5b7b-aa97-4a30-e53f-03abcb42e2ad"
      },
      "outputs": [
        {
          "output_type": "execute_result",
          "data": {
            "text/plain": [
              "[<matplotlib.lines.Line2D at 0x7cc541dc69b0>]"
            ]
          },
          "metadata": {},
          "execution_count": 33
        },
        {
          "output_type": "display_data",
          "data": {
            "text/plain": [
              "<Figure size 1000x800 with 2 Axes>"
            ],
            "image/png": "[encoded data removed]"
          },
          "metadata": {}
        }
      ],
      "source": [
        "# Plot the plots of the learning curves\n",
        "plt.figure(figsize=(10, 8))\n",
        "plt.subplot(2,1,1)\n",
        "plt.xlabel('Epoch')\n",
        "plt.ylabel('NLLLoss')\n",
        "plt.plot(train_losses, label='train')\n",
        "plt.plot(test_losses, label='test')\n",
        "plt.legend()\n",
        "plt.subplot(2,1,2)\n",
        "plt.xlabel('Epoch')\n",
        "plt.ylabel('Test Accuracy [%]')\n",
        "plt.plot(train_accs, label='train')\n",
        "plt.plot(test_accs, label='test')"
      ]
    },
    {
      "cell_type": "markdown",
      "metadata": {
        "id": "NiTnvPTTJYBP"
      },
      "source": [
        "#### References\n",
        "\n",
        "[1] https://github.com/pytorch/examples/blob/master/mnist/main.py"
      ]
    }
  ],
  "metadata": {
    "accelerator": "GPU",
    "kernelspec": {
      "display_name": "Python 3 (ipykernel)",
      "language": "python",
      "name": "python3"
    },
    "language_info": {
      "codemirror_mode": {
        "name": "ipython",
        "version": 3
      },
      "file_extension": ".py",
      "mimetype": "text/x-python",
      "name": "python",
      "nbconvert_exporter": "python",
      "pygments_lexer": "ipython3",
      "version": "3.8.6"
    },
    "colab": {
      "provenance": [],
      "include_colab_link": true
    }
  },
  "nbformat": 4,
  "nbformat_minor": 0
}